{
 "cells": [
  {
   "cell_type": "markdown",
   "id": "7ccc6811-a75b-46b2-92e2-4a6c4a47d517",
   "metadata": {},
   "source": [
    "\n",
    "<h1 style=\"font-size\":40px>Value at Risk with Merton Jump-Diffusion Model(Single Asset)</h1>\n",
    "\n",
    "\n",
    "<h2 style = \"font-size:25px\"><ins>THEORY</ins></h2> \n",
    "\n",
    "<p>The Merton jump-diffusion model predicts the price movements of an asset via a Stochastic Differential Equation(SDE)<a href=\"#ref1\"><sup>[1]</sup></a>:\n",
    "\n",
    "\n",
    "<a id=\"eq-merton\"></a>\n",
    "$$\n",
    "\\begin{equation}\n",
    "d S_t = \\mu S_t dt + \\sigma S_t dW_t + S_t(J-1)dN_t \\tag{1}\n",
    "\\end{equation}\n",
    "$$\n",
    "\n",
    "  \n",
    "The first term captures a deterministic, linear change in asset price. The second term adds a continuous, fluctuating component, modeled by a Wiener process: \n",
    "    $$\n",
    "    dW_t = \\mathcal{N}(0,d t)= \\sqrt{d t} \\mathcal{N}(0,1)    \n",
    "    $$\n",
    "The final term represents a discontinuous jump, characterized by a frequency(encoded in $dN_t$) and a magnitude($J$). Merton assumes that $J$ is lognormally distributed:\n",
    "    $$\n",
    "    \\text{ln}(J) \\sim \\mathcal{N}(\\mu_J,\\sigma^2_J)\n",
    "    $$\n",
    "whereas $dN_t$ is a Poisson process of intensity $\\lambda$. Over a small interval $dt$, its probability of being zero is $e^{-\\lambda dt}$:\n",
    "\n",
    "   $$dN_t  \\sim \\begin{cases} \n",
    "          0 & p = e^{-\\lambda dt} \\\\\n",
    "          1 & 1-p \n",
    "       \\end{cases}\n",
    "    $$\n",
    "    \n",
    "We now introduce the coordinate $y_t = \\text{ln}(S_t)$, and transform the above SDE accordingly. For the first two terms, we obtain the following\n",
    "$$\n",
    "dy_t =  \\frac{\\partial y_t}{\\partial S}{dS} + \\frac{\\partial^2 y_t}{\\partial S^2}{d S^2} \n",
    "$$ \n",
    "by applying a second order Taylor expansion and setting $\\partial_t y_t = 0$. Thereafter, noting that $d W_t \\sim\\mathcal{O}(\\sqrt{dt})$ and neglecting all powers of $dt$ greater than 1 leads to Itô's lemma:\n",
    "\n",
    "$$\n",
    "\\begin{equation*}\n",
    "d y_t = \\left( \\mu - \\frac{\\sigma^2}{2}\\right) dt + \\sigma dW_t \n",
    "\\end{equation*}\n",
    "$$\n",
    "To account for the jump term, we can directly transform its induced differential $dS$ in the new coordinate, which works out to $[\\ln(J S_t) - \\ln(S_t)]dN_t$. Putting everything together yields\n",
    "\n",
    "<a id=\"eq-merton-y\"></a>\n",
    "$$\n",
    "\\begin{equation}\n",
    "d y_t = \\left( \\mu - \\frac{\\sigma^2}{2}\\right) dt + \\sigma dW_t + \\ln(J) dN_t\\tag{2}\n",
    "\\end{equation}\n",
    "$$\n",
    "While this equation can be analytically integrated over time, we will solve it numerically. The discretized version of <a href=\"#eq-merton-y\">(2)</a> reads\n",
    "$$\n",
    "y_{t+ \\Delta t} = y_t + \\left( \\mu - \\frac{\\sigma^2}{2} \\right) \\Delta t + \\sigma \\mathcal{N}(0,\\sqrt{\\Delta t}) + N_{\\Delta t} \\mathcal{N}(\\mu_J,\\sigma^2)\n",
    "$$\n",
    "where $N_{\\Delta t}$ is the discrete version of $dN_t$ defined above.\n",
    "I chose to work with $S_t$ itself, so I write\n",
    "\n",
    "<a id=\"eq-merton-final\"></a>\n",
    "$$\n",
    "\\begin{equation}\n",
    "S_{t+\\Delta t} = S_t e^{\\left( \\mu - \\frac{\\sigma^2}{2} \\right) \\Delta t + \\sigma  \\mathcal{N}(0,\\sqrt{\\Delta t}) + N_{\\Delta t} \\mathcal{N}(\\mu_J,\\sigma^2)} \\tag{3}\n",
    "\\end{equation}\n",
    "$$\n",
    "\n"
   ]
  },
  {
   "cell_type": "markdown",
   "id": "893b656e-dc10-433b-892b-2be3e32b2d76",
   "metadata": {},
   "source": [
    "<h2 style= \"font-size\":25px><ins>CODE</ins></h2>\n",
    "To implement this model on Python, we first import a few modules. "
   ]
  },
  {
   "cell_type": "code",
   "execution_count": 1,
   "id": "cf6657df-5ed8-4cab-82df-76324b16ac82",
   "metadata": {},
   "outputs": [],
   "source": [
    "import numpy as np\n",
    "import matplotlib.pyplot as plt\n",
    "import yfinance as yf\n",
    "import pandas as pd\n",
    "import seaborn as sns\n",
    "import multiprocessing as mp\n",
    "import time as time"
   ]
  },
  {
   "cell_type": "markdown",
   "id": "f26edea5-e57d-41b5-8b3a-3c10064021b0",
   "metadata": {},
   "source": [
    "The function below calculates the Value at Risk via Monte Carlo simulations for single stock. Historical returns data is used to obtain the initial stock price, as well as values for the mean $(\\mu$) and volatility($\\sigma$). These can then plugged into equation <a href=\"#eq-merton-final\">(3)</a> to calculate the evolution of the stock price as per the Merton jump-diffusion model. The price is sequentially calculated for a time horizon of N_days(days), and the simulation is repeated n_runs times.  The Value at Risk for is returned at a given confidence level."
   ]
  },
  {
   "cell_type": "code",
   "execution_count": 2,
   "id": "fd3140d9-3139-46cd-91c1-069e4e0fdef7",
   "metadata": {},
   "outputs": [],
   "source": [
    "def VaR_Monte_Carlo(S0,n_runs,returns,confidence_level):\n",
    "    N_days = len(returns)\n",
    "    Δt = 1/252                          #time step (in years) \n",
    "    μ = np.mean(returns)                #portfolio mean\n",
    "    σ = np.std(returns)                 #portfolio std. dev.\n",
    "    λ= 0.1                              #expected jumps per year\n",
    "    μ_J = -0.02                         #mean jump size \n",
    "    σ_J = 0.05                          #jump size volatility\n",
    "    S = np.zeros((n_runs, N_days))\n",
    "    S[:, 0] = S0\n",
    "\n",
    "    for i in range(n_runs):\n",
    "        for j in range(1, N_days):\n",
    "            dW = np.random.normal(0, np.sqrt(Δt))                       #Brownian term\n",
    "            diffusion = (μ - 0.5 * σ **2) * Δt + σ * dW\n",
    "            jump = np.random.poisson(λ*Δt)*np.random.normal(μ_J, σ_J)   #jump term\n",
    "            S[i, j] = S[i, j - 1] * np.exp(diffusion + jump)\n",
    "            \n",
    "    simulated_returns = (S[:, -1] / S[:, 0]) - 1                        #final return for each run\n",
    "    VaR_Merton = np.percentile(simulated_returns, 100*(1-confidence_level))  \n",
    "    print(f\"VaR at {confidence_level*100}%(Merton Jump-Diffusion): {100*VaR_Merton:.2f}%\")\n",
    "    \n",
    "    return VaR_Merton"
   ]
  },
  {
   "cell_type": "markdown",
   "id": "6649feaf-5eee-40d3-88c7-d34cf205ae01",
   "metadata": {},
   "source": [
    "It helps to also calculate the VaR without the random jumps, so as to obtain a reference for the magnitude of jumps. Dropping the jump terms from <a href=\"#eq-merton-final\">(3)</a> results in the Black-Scholes model, which we will also simulate and calculate the VaR for. Since the calculations can take up significant time and memory, we shall parallelize them using Python's $\\texttt{multiprocessing}$ module by splitting up the above function as follows:"
   ]
  },
  {
   "cell_type": "code",
   "execution_count": 3,
   "id": "11fe2817-aa58-4578-9ec0-612cf9a87f00",
   "metadata": {},
   "outputs": [],
   "source": [
    "def simulate_path(params,seed):\n",
    "    S0,N_days, Δt, μ, σ, λ, μ_J, σ_J = params\n",
    "    np.random.seed(seed)         #ensures different random numbers for each run\n",
    "    s_M = np.zeros(N_days)       #stores data for one run\n",
    "    s_BS = np.zeros(N_days)\n",
    "    s_M[0] = S0\n",
    "    s_BS[0] = S0 \n",
    "    for j in range(1, N_days):\n",
    "        dW = np.random.normal(0, np.sqrt(Δt))  #Brownian term\n",
    "        diffusion = (μ - 0.5 * σ ** 2) * Δt + σ * dW\n",
    "        jump = np.random.poisson(λ * Δt) * np.random.normal(μ_J, σ_J)  #jump term\n",
    "        s_M[j] = s_M[j - 1] * np.exp(diffusion + jump)\n",
    "        s_BS[j] = s_BS[j - 1] * np.exp(diffusion)\n",
    "    return_m = (s_M[-1]/s_M[0]) - 1\n",
    "    return_bs = (s_BS[-1]/s_BS[0]) -1\n",
    "    \n",
    "    return return_m,return_bs\n",
    "\n",
    "def VaR_Monte_Carlo(returns,S0,n_runs,confidence_level):\n",
    "    N_days = len(returns)\n",
    "    Δt = 1/251                          #time step (in years) \n",
    "    μ = np.mean(returns)                #historical mean\n",
    "    σ = np.std(returns)                 #historical std. dev.\n",
    "    λ= 0.1                              #expected jumps per year\n",
    "    μ_J = -0.02                         #mean jump size \n",
    "    σ_J = 0.05                          #jump size volatility\n",
    "                     \n",
    "    params = S0,N_days, Δt, μ, σ, λ, μ_J, σ_J\n",
    "    #use multiprocessing to parallelize the simulations\n",
    "    with mp.Pool(processes=mp.cpu_count()) as pool:\n",
    "        results = pool.starmap(simulate_path,[(params, seed) for seed in range(n_runs)])\n",
    "    R_M, R_BS = zip(*results)\n",
    "    \n",
    "    R_M = np.array(R_M)  \n",
    "    R_BS = np.array(R_BS)\n",
    "\n",
    "    VaR_Merton = np.percentile(R_M, 100*(1-confidence_level))  \n",
    "\n",
    "    VaR_BS = np.percentile(R_BS, 100*(1-confidence_level))   \n",
    "\n",
    "    return VaR_Merton,VaR_BS"
   ]
  },
  {
   "cell_type": "markdown",
   "id": "2d50fe73-3d24-4270-b0ec-3e20188b632c",
   "metadata": {},
   "source": [
    "This approach works well for very large number of runs even on a laptop, where memory constraints might have prevented the code from executing had we used the initial function or even a vectorized version of it. Note that each run has its own random seed, but the set of seeds is fixed, allowing for reproducable results. Once the VaR is calculated, the function below visualizes it against a histogram of the input(historical) data. "
   ]
  },
  {
   "cell_type": "code",
   "execution_count": 4,
   "id": "f82c2196-71e7-4932-b2c6-0ae82fd21dac",
   "metadata": {},
   "outputs": [],
   "source": [
    "def plot_returns(portfolio_returns,confidence_level,varM,varBS):\n",
    "    fig, ax = plt.subplots(figsize=(10, 6))    \n",
    "    #histogram of portfolio returns\n",
    "    sns.histplot(portfolio_returns, bins=50, color=\"black\", alpha=0.6, label=\"Returns\")\n",
    "    #show VaR\n",
    "    ax.axvline(varM, color='blue', linestyle='dashed', linewidth=2, label=f'VaR_Merton $({varM:.4f})$')\n",
    "    ax.axvline(varBS, color='red', linestyle='dashed', linewidth=2, label=f'VaR_Black-Scholes $({varBS:.4f})$')\n",
    "\n",
    "    ax.set_title(r\"Histogram of Historic Portfolio Returns with VaR at ${}\\%$ Confidence\".format(confidence_level*100))\n",
    "    ax.set_xlabel(\"Returns\")\n",
    "    ax.set_ylabel(\"Frequency\")\n",
    "    ax.legend()\n",
    "    plt.show()"
   ]
  },
  {
   "cell_type": "markdown",
   "id": "ea680516-a127-45d0-a7d6-37516ec3d10f",
   "metadata": {},
   "source": [
    "The main function below collects the historical data of a stock and executes Monte Carlo simulations of stock price using Merton's model. "
   ]
  },
  {
   "cell_type": "code",
   "execution_count": 5,
   "id": "a2f26aa6-0e11-4f54-8bee-c079fff189f7",
   "metadata": {},
   "outputs": [
    {
     "name": "stdout",
     "output_type": "stream",
     "text": [
      "YF.download() has changed argument auto_adjust default to True\n"
     ]
    },
    {
     "name": "stderr",
     "output_type": "stream",
     "text": [
      "[*********************100%***********************]  1 of 1 completed\n"
     ]
    },
    {
     "name": "stdout",
     "output_type": "stream",
     "text": [
      "VaR at 95.0%(Merton Jump-Diffusion): -3.49%\n",
      "VaR at 95.0%(Black-Scholes): -2.67%\n"
     ]
    },
    {
     "data": {
      "image/png": "[encoded data removed]",
      "text/plain": [
       "<Figure size 1000x600 with 1 Axes>"
      ]
     },
     "metadata": {},
     "output_type": "display_data"
    }
   ],
   "source": [
    "if __name__==\"__main__\":\n",
    "    t1 = time.time()\n",
    "    ticker = \"AMZN\"                            #choose portfolio of stocks\n",
    "    confidence_level= 0.95                     #set confidence level for VaR\n",
    "    \n",
    "    start =pd.Timestamp(2024,2,1)\n",
    "    stop = pd.Timestamp(2025,2,1)\n",
    "    \n",
    "    data = yf.download(ticker, start, stop)    #download data\n",
    "    \n",
    "    close_prices = data[\"Close\"]\n",
    "    S0 = close_prices.iloc[0,0]                #initial stock price\n",
    "    returns = close_prices.pct_change().dropna()\n",
    "    returns = returns[ticker].to_numpy()\n",
    "    n_runs = 10000                             #number of Monte Carlo runs\n",
    "    \n",
    "    VaR_Merton,VaR_BS = VaR_Monte_Carlo(returns,S0,n_runs,confidence_level) \n",
    "    print(f\"VaR at {confidence_level*100}%(Merton Jump-Diffusion): {100*VaR_Merton:.2f}%\")\n",
    "    print(f\"VaR at {confidence_level*100}%(Black-Scholes): {100*VaR_BS:.2f}%\")   \n",
    "    \n",
    "    \n",
    "    plot_returns(returns,confidence_level, VaR_Merton,VaR_BS)\n"
   ]
  },
  {
   "cell_type": "markdown",
   "id": "dd79cb58-fab4-40d3-bf24-f7c293f8958d",
   "metadata": {},
   "source": [
    "We notice a clear difference($\\Delta)$ between the VaR obtained from the Merton model and the Black-Scholes one. Raising $\\lambda$ further will only widen the gap, and it's a good exercise to verify that $\\Delta \\to 0 $ as $\\lambda \\to 0$."
   ]
  },
  {
   "cell_type": "markdown",
   "id": "bf824afd-cbff-41f5-8726-8e8c6b1a8771",
   "metadata": {},
   "source": [
    "## References\n",
    "\n",
    "<a id=\"ref1\"></a>[1] Matsuda, Kazuhisa. \"<a href=\"https://maxmatsuda.com/Papers/Intro/Intro%20to%20MJD%20Matsuda.pdf\">*Introduction to Merton jump diffusion model*</a>\" Department of Economics, The Graduate Center, The City University of New York, New York (2004)."
   ]
  }
 ],
 "metadata": {
  "kernelspec": {
   "display_name": "Python 3 (ipykernel)",
   "language": "python",
   "name": "python3"
  },
  "language_info": {
   "codemirror_mode": {
    "name": "ipython",
    "version": 3
   },
   "file_extension": ".py",
   "mimetype": "text/x-python",
   "name": "python",
   "nbconvert_exporter": "python",
   "pygments_lexer": "ipython3",
   "version": "3.12.2"
  }
 },
 "nbformat": 4,
 "nbformat_minor": 5
}
