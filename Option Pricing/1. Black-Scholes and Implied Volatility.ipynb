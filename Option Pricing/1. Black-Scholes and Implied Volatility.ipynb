{
 "cells": [
  {
   "cell_type": "markdown",
   "id": "e63eac52-76c0-4f19-bc72-47abd9ef8410",
   "metadata": {},
   "source": [
    "<h1 align = \"center\",style=\"fontsize:40\">BLACK-SCHOLES AND IMPLIED VOLATILITY</h1>"
   ]
  },
  {
   "cell_type": "markdown",
   "id": "ac7e0e81-a9ae-4cdf-b613-7cff75b57e02",
   "metadata": {},
   "source": [
    "<h2 style = \"font-size:25px\"><ins>THEORY</ins></h2> "
   ]
  },
  {
   "cell_type": "markdown",
   "id": "fa6dbaca-caf4-4b74-ab14-3f109e91f494",
   "metadata": {},
   "source": [
    "<h3>Black Scholes Equation</h3>\n",
    "\n",
    "The Black-Scholes equation for options pricing is a differential equation that describes the variation of stock option prices with respect to time $t$, stock price $S$, asset volatility $\\sigma$ and the risk-free interest rate $r$. It is derived by hedging an option against its underlying asset(stock), whose price $S(t)$ is modelled by geometric Brownian motion. That is, to say, the stock price $S$ obeys the following stochastic differential equation:\n",
    "<a id=\"eq-GBM\"></a>\n",
    "$$\n",
    "\\begin{equation}\\tag{1}\n",
    "dS = S \\mu dt + S \\sigma dW\n",
    "\\end{equation}\n",
    "$$\n",
    "where $dW \\sim \\mathcal{N}(0,dt)(=\\sqrt{dt}\\mathcal{N}(0,1))$ is a Wiener process, $\\mu$ is the mean around which the price fluctuates, and $\\sigma$ is the volatility of fluctuations. To derive an equation for an option price(call or put) which is a function of $S$, we must first transform (2) into an equation for some $V = f(t,S)$. Using a second order Taylor expansion, the chain rule for derivatives reads: \n",
    "<a id=\"eq-chain\"></a>\n",
    "$$\n",
    "\\begin{equation}\\tag{2}\n",
    "dV = \\frac{\\partial V}{\\partial t}dt + \\frac{\\partial V}{\\partial S}dS + \\frac{1}{2} \\frac{\\partial^2 V}{\\partial S^2} dS^2\n",
    "\\end{equation}\n",
    "$$\n",
    "Substituting  <a href=\"#eq-GBM\">(1)</a> in <a href=\"#eq-chain\">(2)</a>, keeping in mind that $d W \\sim\\mathcal{O}(\\sqrt{dt})$, and neglecting all powers of $dt$ larger than 1 leads to Itô's lemma:\n",
    "$$\n",
    "\\begin{equation}\n",
    "dV = \\left( \\frac{\\partial V}{\\partial t} + \\mu S \\frac{\\partial V}{\\partial S} + \\frac{1}{2} \\sigma^2 S^2 \\frac{\\partial^2 V}{\\partial S^2}\\right)dt + \\sigma S \\frac{\\partial V}{\\partial S} dW\n",
    "\\end{equation}\n",
    "$$\n",
    "Assuming that $V$ is the price of a European call or put option, its value at the expiry time $T$ depends only on the asset price at $T$. We can hedge our option investment by shorting(selling) $a$ units of the the underlying stock for every one unit of $V$ purchased. This gives our portfolio a net value of $\\Pi = V(t,S)- a S(t)$. Over an infinitesimal time $dt$, \n",
    "$$\n",
    "\\begin{align*}\n",
    "d \\Pi & = dV(t,S) - a dS(t)\\\\\n",
    "      & = \\left( \\frac{\\partial V}{\\partial t} + \\mu S \\frac{\\partial V}{\\partial S} + \\frac{1}{2} \\sigma^2 S^2 \\frac{\\partial^2 V}{\\partial S^2}  - a\\mu S \\right)dt + \\left( \\sigma S \\frac{\\partial V}{\\partial S}- a\\sigma S\\right)dW\n",
    "\\end{align*}\n",
    "$$\n",
    "Since we wish to eliminate the impact of stock fluctuations on the value of our portfolio, we need to reduce the coefficient of $dW$ to zero, which means that $a = \\frac{\\partial V}{\\partial S}$. Since both $V$ and $S$ vary with time, the quantity $a$ needs to be constantly adjusted over time. Having rendered our portfolio risk-free, we expect it to produce a return of $d\\Pi$ over the interval $dt$ in accordance with the risk-free interest rate:\n",
    "$$\n",
    "d\\Pi = r \\Pi dt\n",
    "$$\n",
    "Substituting the relevant expressions and re-arranging the terms leads to the Black-Scholes equation:\n",
    "<a id=\"eq-BSE\"></a>\n",
    "$$\n",
    "\\begin{equation}\\tag{3}\n",
    "\\frac{\\partial V}{\\partial t} + \\frac{1}{2} \\sigma^2 S^2 \\frac{\\partial^2 V}{\\partial S^2} + r S \\frac{\\partial V}{\\partial S} - r V = 0\n",
    "\\end{equation}\n",
    "$$\n",
    "For a European call option $(V=C(S,t))$, which can only be exercised at maturity, it is possible to obtain a closed form solution to this equation by imposing the following boundary conditions:\n",
    "$$\n",
    "\\begin{align*}\n",
    "C(0,t) &= 0 \\\\\n",
    "C(S,t) &\\to S \\text{ as } S \\to \\infty\\\\\n",
    "C(S,T) &= \\text{max}(S-K,0)\n",
    "\\end{align*}\n",
    "$$\n",
    "where $K$ is the strike price of the option. These conditions reflect our intuitive expectations that \n",
    "* extreme valuations of the underlying asset should reflect in the price of the option\n",
    "* the option price can be neither negative nor greater than the payoff $S-K$(nobody pays more for less!)\n",
    "  \n",
    "and lead to the Black-Scholes formula<a href=\"#ref1\"><sup>[1]</sup></a>:\n",
    "\n",
    "<a id=\"eq-BSF\"></a>\n",
    "$$\n",
    "\\begin{equation}\\tag{4}\n",
    "C(t,S) = S N(d_1) - K e^{-r(T-t)} N(d_2)\n",
    "\\end{equation}\n",
    "$$\n",
    "\n",
    "where \n",
    "\n",
    "$$\n",
    "\\begin{align*}\n",
    "d_1 &= \\frac{\\log(S/K) + (r+ \\sigma^2/2)(T-t)}{\\sigma \\sqrt{T-t}}\\\\\n",
    "d_2 &= d_1 - \\sigma \\sqrt{T-t}\n",
    "\\end{align*}\n",
    "$$\n",
    "and $N(a) = \\dfrac{1}{\\sqrt{2 \\pi}} {\\displaystyle \\int^a_{-\\infty} e^{-x^2/2}dx}$ is the cumulative normal distribution function. \n",
    "\n",
    "A generalization of <a href=\"#eq-BSF\">(4)</a> incorporates the dividend rate $q$ of the underlying stock, providing the formula\n",
    "\n",
    "<a id=\"eq-BSF2\"></a>\n",
    "$$\n",
    "\\begin{equation}\\tag{5}\n",
    "C(t,S) = S e^{-q(T-t)}N(d_1) - K e^{-r(T-t)} N(d_2)\n",
    "\\end{equation}\n",
    "$$\n",
    "\n",
    "where $d_1 = \\frac{\\log(S/K) + (r - q + \\sigma^2/2)(T-t)}{\\sigma \\sqrt{T-t}}$ and $d_2 = d_1 - \\sigma \\sqrt{T-t}$. I will use this formula in the rest of this notebook.\n"
   ]
  },
  {
   "cell_type": "markdown",
   "id": "c76c44f1-581e-41a4-9629-853b5f3e1037",
   "metadata": {},
   "source": [
    "<h3>Implied Volatility</h3>\n",
    "The Black-Scholes formula(<a href=\"#eq-BSF-2\">5</a>) provides a valuation of the call option given certain parameters, under certain assumptions. One of these parameters is the volatility $\\sigma$ of the underlying asset. We might ask a different question using the same formula: \"what is the value of $\\sigma$ given the rest of the parameters, including the call price?\". The answer is the volatility implied by the Black-Scholes formula, which can be calculated using root-finding methods given a market call option price. The idea is to provide an initial guess $\\sigma_0$ for the volatility and calculate the corresponding call price via <a href=\"#eq-BSF2\">(5)</a>. The process is repeated by slightly adjusting $\\sigma$ until the option price matches the given call price within a certain margin of error. A common method that follows this approach is called the Newton-Raphson method, which improves iteratively upon a guess using the following formula:  \n",
    "\n",
    "$$\n",
    "\\sigma_{i+1} = \\sigma_i - \\frac{C_{market} - C_{\\sigma_i}}{\\nu} \n",
    "$$\n",
    "\n",
    "where $\\sigma_{i}$ is the value of the volatility at iteration $i$, $C_{market}$ is the call price to be matched, $C_{\\sigma_i}$ is the call price obtained by plugging in $\\sigma_i$ into the Black-Scholes model, and $\\nu$ is the derivative of $C$ with respect to $\\sigma$, commonly known as Vega. Vega can be calculated either analytically by taking the derivative of <a href=\"#eq-BSF2\">(5)</a> with respect to $\\sigma$, or numerically using finite differences:\n",
    "$$\n",
    "\\nu = \\lim_{h\\to 0}\\frac{C(\\sigma_i + h) - C(\\sigma_i - h)}{2h}\n",
    "$$\n",
    "In this notebook, I will use Brent's method, another iterative approach to finding the root of an equation."
   ]
  },
  {
   "cell_type": "markdown",
   "id": "4ded16c1-0151-483e-8c39-63d563a62bed",
   "metadata": {},
   "source": [
    "<h2 style = \"font-size:25px\"><ins>CODE</ins></h2> "
   ]
  },
  {
   "cell_type": "markdown",
   "id": "9cec65cb-9321-44c4-bf24-1b4813ee12c2",
   "metadata": {},
   "source": [
    "<h2>Program #1: Surface of Implied Volatility from Historical Data</h2>\n",
    "\n",
    "For this section, I have downloaded options data for Apple stock from the month of December 2023 via OptionsDX.com. The code provided here processes the data file into a pandas DataFrame, calculates the implied volatility according to the Black-Scholes formula, and visualizes the surface of IV against moneyness and time to expiry$(T-t)$. For comparison, the implied volatility provided by OptionsDX is also plotted. To begin with, we import the relevant modules and inlcude the magic command that enables interactive plots on this notebook. \n",
    "\n",
    "<ins>Note</ins>: You might have to install $\\texttt{ipympl}$ first using ```pip install ipympl```. If the animation still doesn't render, make sure that you've installed $\\texttt{jupyterlab-widgets}$ using pip or conda prompt(```conda install -c conda-forge ipywidgets```)."
   ]
  },
  {
   "cell_type": "code",
   "execution_count": 1,
   "id": "b210d29a-480b-4a68-a6fe-4f65ad60b535",
   "metadata": {},
   "outputs": [],
   "source": [
    "%matplotlib ipympl\n",
    "import pandas as pd\n",
    "import multiprocessing as mp\n",
    "import numpy as np\n",
    "from scipy.stats import norm\n",
    "from scipy.optimize import brentq\n",
    "from scipy.interpolate import griddata\n",
    "import matplotlib.pyplot as plt\n",
    "from matplotlib.animation import FuncAnimation"
   ]
  },
  {
   "cell_type": "markdown",
   "id": "13ab7ef9-ddec-4c8a-ab9f-63b63a52fdfc",
   "metadata": {},
   "source": [
    "Next, we define a function that calculates the option price according to the Black-Scholes formula and another that calculates the implied volatility."
   ]
  },
  {
   "cell_type": "code",
   "execution_count": 2,
   "id": "842688ab-79d8-44fe-a01f-0a79c651505b",
   "metadata": {},
   "outputs": [],
   "source": [
    "#Black-Scholes formula for call options\n",
    "def Black_Scholes(S, K, ΔT, r, σ, q):\n",
    "    d1 = (np.log(S / K) + (r - q + 0.5 * σ** 2) * ΔT) / (σ * np.sqrt(ΔT))\n",
    "    d2 = d1 - σ * np.sqrt(ΔT)\n",
    "    return S * np.exp(-q * ΔT) * norm.cdf(d1) - K * np.exp(-r * ΔT) * norm.cdf(d2)\n",
    "\n",
    "#Implied Volatility using brentq\n",
    "def Implied_Volatility(C, S, K, ΔT, r, q):\n",
    "    try:\n",
    "        return brentq(lambda sigma: Black_Scholes(S, K, ΔT, r, sigma, q) - C, 1e-6, 5)\n",
    "    except (ValueError, RuntimeError):\n",
    "        return 0"
   ]
  },
  {
   "cell_type": "markdown",
   "id": "a943b4dc-5089-44aa-a429-8b32b6890972",
   "metadata": {},
   "source": [
    "The options data in this example contains $58,427$ elements after the filtering, so I've used Python's $\\texttt{multiprocessing}$ module to speed up the calculations. The functions below work together to calculate the implied volatility for the data downloaded from OptionsDX. The first of these, ```IV_helper```, is a helper function that calculates the IV for a given row of the data frame, representing one set of parameters $C_i,S_i,K_i, \\Delta T_i$. The second function ```IV_main``` filters the data on certain criteria of moneyness and time to maturity, ensuring an (almost)identical grid for each day when we animate the surface of implied volatility. "
   ]
  },
  {
   "cell_type": "code",
   "execution_count": 3,
   "id": "88de9095-75a5-4a48-a911-17ca9220189b",
   "metadata": {},
   "outputs": [],
   "source": [
    "#function to help calculate IV with multiprocessing\n",
    "def IV_helper(row,r,q):\n",
    "    return Implied_Volatility(row[\"C\"], row[\"S\"], row[\"K\"], row[\"ΔT\"], r, q)\n",
    "\n",
    "#calculate IV with multiprocessing\n",
    "def IV_main(filename,T_min,T_max,K_min,K_max,q,r):\n",
    "    #load data and clean up headers\n",
    "    DATA = pd.read_csv(filename)\n",
    "    DATA.columns = DATA.columns.str.replace(' [', '').str.replace(']','')\n",
    "    \n",
    "    #extract select columns\n",
    "    data = DATA[[\"QUOTE_DATE\",\"UNDERLYING_LAST\",\"STRIKE\",\"DTE\",\"C_IV\"]]\n",
    "    data.columns = [\"Date\",\"S\",\"K\",\"ΔT\",\"IV_{given}\"]\n",
    "    data = data.assign(C=(DATA[\"C_ASK\"] + DATA[\"C_BID\"]) / 2)\n",
    "    \n",
    "    #filter data on conditions\n",
    "    data = data[(data['C']>0) & (data['ΔT']>0)]\n",
    "    data = data[(data['IV_{given}']!=' ')]\n",
    "    data = data[(data['K'] >= K_min*data['S']/100) & (data['K']<= K_max*data['S']/100)]\n",
    "    data = data[(data['ΔT'] >= T_min) & (data['ΔT']<= T_max)]\n",
    "    data['ΔT'] = data['ΔT']/365\n",
    "    \n",
    "    #calculate IV using multiprocessing\n",
    "    with mp.Pool(processes=mp.cpu_count()) as pool:\n",
    "        data[\"IV_{calculated}\"] = pool.starmap(IV_helper,[(row, r, q) for index, row in data.iterrows()])\n",
    "    return data"
   ]
  },
  {
   "cell_type": "markdown",
   "id": "083e0a57-1111-4e76-b2a2-191b40267ca4",
   "metadata": {},
   "source": [
    "Despite the large number of data points we've got to work with, the surface of implied volatility is still going to be sparse on any given day. To fill out the grid, we will interpolate the values between the calculated data point using the function ```Interpolate```. It reads in a data frame and a string indicating the column whose data is to be plotted on the z-axis, and uses linear interpolation to calculate values in between data points."
   ]
  },
  {
   "cell_type": "code",
   "execution_count": 4,
   "id": "3b3793dd-a58f-4953-b5cd-0bbbc9dd756f",
   "metadata": {},
   "outputs": [],
   "source": [
    "#interpolate data to fill gaps in plot\n",
    "def Interpolate(DF,col):\n",
    "    x = DF['ΔT']\n",
    "    y = DF['K']\n",
    "    z = DF[col]\n",
    "    S = DF['S'].iloc[0]\n",
    "    xi = np.linspace(min(x), max(x), 100)\n",
    "    yi = np.linspace(min(y), max(y), 100)\n",
    "    X, Y = np.meshgrid(xi, yi)\n",
    "    Z = griddata((x, y), z, (X, Y), method='linear')\n",
    "    return X,Y/S,Z*100"
   ]
  },
  {
   "cell_type": "markdown",
   "id": "b2cfa1c1-1c0b-4876-a2e3-c26449b85288",
   "metadata": {},
   "source": [
    "Finally, I define a class ```MultiSurface``` which reads in a data frame and a list of column names whose entries are animated in a 3D surface plot with their own seperate axes. It calls ```Interpolate``` at every frame to generate interpolated IV values for the z-axis, and updates the surfaces from the previous frame."
   ]
  },
  {
   "cell_type": "code",
   "execution_count": 5,
   "id": "0b3dfefe-1783-4fd7-925e-72bacc65291c",
   "metadata": {},
   "outputs": [],
   "source": [
    "#animates multiple surfaces in the same plot\n",
    "class MultiSurface:\n",
    "    def __init__(self, data, cols):\n",
    "        self.data = data\n",
    "        self.cols = cols\n",
    "        self.fig = plt.figure(figsize=(14, 6))\n",
    "        self.adata = []                     #list of dictionaries\n",
    "        self.dates = data['Date'].unique()  #extract every unique date\n",
    "        self.fs = 15                        #fontsize\n",
    "    #main animation function\n",
    "    def animator(self):\n",
    "        L = len(self.cols)\n",
    "        #initialize subplots and their artists\n",
    "        for i in range(L):\n",
    "            self.ax = self.fig.add_subplot(1,L,i+1, projection='3d')\n",
    "            self.ax.view_init(30,30)\n",
    "            #prepare X,Y and Z grids by interpolation\n",
    "            T_grid, K_grid, IV_M = Interpolate(self.data.loc[self.data['Date'] == self.dates[0]], self.cols[i])\n",
    "            surf = self.ax.plot_surface(T_grid, K_grid, IV_M, cmap=\"jet\")\n",
    "            cbar = self.fig.colorbar(surf, ax=self.ax, pad=0.1)\n",
    "            #store axis,surface, colorbar and name for each individual column\n",
    "            self.adata.append({\"Axis\":self.ax,\"Surface\":surf,\"Colorbar\":cbar,\"Clm\":self.cols[i]})\n",
    "            self.ax.set_xlabel(r\"$Time \\ to \\ Maturity (y)$\",fontsize=self.fs)\n",
    "            self.ax.set_ylabel(r\"$Moneyness  (\\% \\ Spot)$\",fontsize=self.fs)\n",
    "            self.ax.set_zlabel(r\"$Implied \\ Volatility (\\%)$\",fontsize=self.fs)\n",
    "            self.ax.set_title(r\"$Surface \\ of \\ Implied \\ Volatility$ on ${self.dates[0]}$\",fontsize=18)\n",
    "        #function to update surfaces\n",
    "        def update(i): \n",
    "            for ad in self.adata:\n",
    "                T_grid, K_grid, IV_M = Interpolate(self.data.loc[self.data['Date'] == self.dates[i]],ad[\"Clm\"])\n",
    "                ax = ad[\"Axis\"] \n",
    "                #clear axis\n",
    "                ax.cla()\n",
    "                #remove surface plot from previous frame\n",
    "                ad[\"Surface\"].remove()\n",
    "                #plot new surface\n",
    "                ad[\"Surface\"]= ax.plot_surface(T_grid, K_grid, IV_M, cmap=\"jet\")\n",
    "                ad[\"Colorbar\"].update_normal(ad[\"Surface\"])\n",
    "                ax.set_xlabel(r\"$Time \\ to \\ Maturity (y)$\",fontsize=self.fs)\n",
    "                ax.set_ylabel(r\"$Moneyness (\\% \\ Spot)$\",fontsize=self.fs)\n",
    "                ax.set_zlabel(r\"$Implied \\ Volatility (\\%)$\",fontsize=self.fs)\n",
    "                ax.set_title(r\"${}$\".format(ad[\"Clm\"]),fontsize=self.fs)\n",
    "                ax.view_init(30,30)\n",
    "                plt.suptitle(f\"Surface of Implied Volatility on ${self.dates[i]}$\",fontsize = 18)\n",
    "        anim = FuncAnimation(self.fig, update, frames=len(self.dates), interval=500,repeat=True)\n",
    "        plt.show()\n",
    "        return anim"
   ]
  },
  {
   "cell_type": "markdown",
   "id": "fc1c7a0a-aa9d-43bf-9912-d9a126028387",
   "metadata": {},
   "source": [
    "The data filtering criteria are set in the main function, which is rather concise in comparision to previous functions."
   ]
  },
  {
   "cell_type": "code",
   "execution_count": null,
   "id": "6f7569b9-4403-4d93-a2a2-504de87c0cc5",
   "metadata": {},
   "outputs": [],
   "source": [
    "if __name__==\"__main__\":\n",
    "    \n",
    "    #set filtering criteria\n",
    "    ΔT_min, ΔT_max = 1, 1000\n",
    "    K_min, K_max = 70, 120\n",
    "    q = 0.04\n",
    "    r = 0.04\n",
    "    \n",
    "    DF = IV_main(\"Apple_Data.txt\",ΔT_min,ΔT_max,K_min,K_max,q,r)\n",
    "    #animate using MultiSurface class\n",
    "    multi_anim = MultiSurface(DF,[\"IV_{given}\",\"IV_{calculated}\"])\n",
    "    ma = multi_anim.animator()  "
   ]
  },
  {
   "cell_type": "code",
   "execution_count": 6,
   "id": "19b5f9b1-615a-402d-b4ef-bf03a053b00b",
   "metadata": {},
   "outputs": [
    {
     "data": {
      "text/html": [
       "<img src=\"https://pouch.jumpshare.com/preview/yr6VZZZ1f6a6ENOOcm_nCFNnJprY8v3hPViMoL5LdJMkE3xf22sJTfhejH6phUru9XtVlyZyIe4jdAxpi3aUKXYzXDuJiUEjqpJ1DO4fbFU\"/>"
      ],
      "text/plain": [
       "<IPython.core.display.Image object>"
      ]
     },
     "execution_count": 6,
     "metadata": {},
     "output_type": "execute_result"
    }
   ],
   "source": [
    "from IPython.display import Image\n",
    "Image(url='https://pouch.jumpshare.com/preview/yr6VZZZ1f6a6ENOOcm_nCFNnJprY8v3hPViMoL5LdJMkE3xf22sJTfhejH6phUru9XtVlyZyIe4jdAxpi3aUKXYzXDuJiUEjqpJ1DO4fbFU')"
   ]
  },
  {
   "cell_type": "markdown",
   "id": "01dce6fe-2a58-4e0f-b918-cb220a94dc91",
   "metadata": {},
   "source": [
    "I've embedded the output gif here since Jupyter sometimes has problems rendering the animation. The profiles of the surface of implied volatility are similar for both the given IV and the calculated one, although there is a noticeable difference in magnitude$(10-20\\%)$ on some days. "
   ]
  },
  {
   "cell_type": "markdown",
   "id": "cc7745ac-3769-4688-87c5-91b41af67ed1",
   "metadata": {},
   "source": [
    "<h2>Program #2: Real-Time Surface of Implied Volatility</h2>"
   ]
  },
  {
   "cell_type": "markdown",
   "id": "758b0c69-4c8d-4a66-9a14-1df047f81b1b",
   "metadata": {},
   "source": [
    "The code in this section uses the $\\texttt{yfinance}$ API to fetch real-time options data for a list of tickers, and plots the respective surface of implied volatility. The plots may look odd during certain hours of the day when there's not much data available, but the embedded gif provides a snapshot from March 20th, 2025 at 13:00h for reference. We begin by downloading the relevant modules"
   ]
  },
  {
   "cell_type": "code",
   "execution_count": 7,
   "id": "0a21ab43-6bb7-447b-8bfa-03ac80f3f064",
   "metadata": {},
   "outputs": [],
   "source": [
    "%matplotlib widget\n",
    "import yfinance as yf\n",
    "import pandas as pd\n",
    "import numpy as np\n",
    "from scipy.stats import norm\n",
    "from scipy.optimize import brentq\n",
    "from scipy.interpolate import griddata\n",
    "import matplotlib.pyplot as plt \n",
    "from matplotlib.animation import FuncAnimation"
   ]
  },
  {
   "cell_type": "markdown",
   "id": "90f0b7d4-6788-42fc-8c1f-3ec7917e99d3",
   "metadata": {},
   "source": [
    "Next, we define functions to implement the Black-Scholes formula and the implied volatility."
   ]
  },
  {
   "cell_type": "code",
   "execution_count": 8,
   "id": "6e0a2728-0b20-466d-9f4f-64b7afcb6d16",
   "metadata": {},
   "outputs": [],
   "source": [
    "def Black_Scholes(S, K, T, r, sigma, q):\n",
    "    d1 = (np.log(S / K) + (r - q + 0.5 * sigma ** 2) * T) / (sigma * np.sqrt(T))\n",
    "    d2 = d1 - sigma * np.sqrt(T)\n",
    "    return S * np.exp(-q * T) * norm.cdf(d1) - K * np.exp(-r * T) * norm.cdf(d2)\n",
    "\n",
    "def Implied_Volatility(C, S, K, T, r, q):\n",
    "    try:\n",
    "        return brentq(lambda sigma: Black_Scholes(S, K, T, r, sigma, q) - C, 1e-6, 5)\n",
    "    except (ValueError, RuntimeError):\n",
    "        return 0"
   ]
  },
  {
   "cell_type": "markdown",
   "id": "d25e7026-f650-4f2e-8ed7-175fb196dd64",
   "metadata": {},
   "source": [
    "Most of the calculations take place in the following function, which reads in a list of tickers, and prepares a dictionary of DataFrames after filtering on criteria of expiry and moneyness. "
   ]
  },
  {
   "cell_type": "code",
   "execution_count": 9,
   "id": "33608773-c325-4736-acfe-49d41f3303b7",
   "metadata": {},
   "outputs": [],
   "source": [
    "def get_IV_data(tickers):\n",
    "    DATA = {}\n",
    "    for ticker in tickers:\n",
    "        print(f\"\\nCollecting data for {ticker}...\")\n",
    "        stock = yf.Ticker(ticker)\n",
    "        expirations = pd.to_datetime(stock.options)\n",
    "        t1 = date + pd.Timedelta(days = T_min)\n",
    "        t2 = date + pd.Timedelta(days = T_max)\n",
    "        filtered_expirations = [exp for exp in expirations if t1 <= exp <=  t2]\n",
    "        data = []\n",
    "    \n",
    "        for f_exp in filtered_expirations:\n",
    "            format = '%Y-%m-%d'\n",
    "            opt_chain = stock.option_chain(f_exp.strftime(format))\n",
    "            f_exp = (f_exp-date).days/365\n",
    "            calls = opt_chain.calls\n",
    "            #rename some columns, calculate market option price\n",
    "            calls = calls.assign(T=f_exp,IV_given=calls['impliedVolatility'] ,K=calls['strike'], C=(calls['bid'] + calls['ask']) / 2)\n",
    "            #select strike, expiration, given IV and current option price\n",
    "            calls = calls[['T', 'K', 'IV_given', 'C']]\n",
    "            data.append(calls)\n",
    "    \n",
    "        df = pd.concat(data, ignore_index=True)\n",
    "        spot_price = stock.history()['Close'].iloc[-1]\n",
    "        df = df[(df['K'] >= spot_price*(K_min/100)) & (df['K'] <= spot_price*(K_max/100))]\n",
    "        df['S'] = spot_price\n",
    "        df['Ticker'] = ticker\n",
    "        DATA[ticker] = df\n",
    "        df[\"IV_calc\"] = df.apply(lambda row: Implied_Volatility(row[\"C\"], row[\"S\"], row[\"K\"], row[\"T\"], r, q), axis=1)\n",
    "        \n",
    "        print(\"Done\")\n",
    "    return DATA"
   ]
  },
  {
   "cell_type": "markdown",
   "id": "c5856580-aa9e-4c1d-9f37-236bd2d0dd73",
   "metadata": {},
   "source": [
    "Since the process for each ticker is independent of the other, it makes sense to parallelize their respective calculations to save time. We can do so by defining a helper function that provides a template for the calculations of a given ticker. This function is called by ```IV_Main``` to simultaneously calculate the IV for all tickers."
   ]
  },
  {
   "cell_type": "code",
   "execution_count": 10,
   "id": "55b77331-681a-4c9f-b48b-270c19e05bc7",
   "metadata": {},
   "outputs": [],
   "source": [
    "#function to help calculate IV with multiprocessing\n",
    "def IV_Helper(ticker):\n",
    "    print(f\"\\nCollecting data for {ticker}...\")\n",
    "    stock = yf.Ticker(ticker)\n",
    "    expirations = pd.to_datetime(stock.options)\n",
    "    t1 = date + pd.Timedelta(days = T_min)\n",
    "    t2 = date + pd.Timedelta(days = T_max)\n",
    "    filtered_expirations = [exp for exp in expirations if t1 <= exp <=  t2]\n",
    "    data = []\n",
    "\n",
    "    for f_exp in filtered_expirations:\n",
    "        format = '%Y-%m-%d'\n",
    "        opt_chain = stock.option_chain(f_exp.strftime(format))\n",
    "        f_exp = (f_exp-date).days/365\n",
    "        calls = opt_chain.calls\n",
    "        #rename some columns, calculate option price\n",
    "        calls = calls.assign(T=f_exp,IV_given=calls['impliedVolatility'] ,K=calls['strike'], C=(calls['bid'] + calls['ask']) / 2)\n",
    "        #select strike, expiration, given IV and current option price\n",
    "        calls = calls[['T', 'K', 'IV_given', 'C']]\n",
    "        data.append(calls)\n",
    "\n",
    "    df = pd.concat(data, ignore_index=True)\n",
    "    spot_price = stock.history()['Close'].iloc[-1]\n",
    "    df = df[(df['K'] >= spot_price*(K_min/100)) & (df['K'] <= spot_price*(K_max/100))]\n",
    "    df['S'] = spot_price\n",
    "    df['Ticker'] = ticker\n",
    "    df[\"IV_calc\"] = df.apply(lambda row: Implied_Volatility(row[\"C\"], row[\"S\"], row[\"K\"], row[\"T\"], r, q), axis=1)\n",
    "    \n",
    "    print(\"Done\")\n",
    "    return df\n",
    "\n",
    "#calculate IV with multiprocessing\n",
    "def IV_Main(tickers):\n",
    "    with mp.Pool(processes=mp.cpu_count()) as pool:\n",
    "            results = pool.imap(IV_Helper,tickers)\n",
    "            return(dict(zip(tickers,results)))\n"
   ]
  },
  {
   "cell_type": "markdown",
   "id": "d836ab36-02ca-418b-9012-78a1c4476e3b",
   "metadata": {},
   "source": [
    "Finally, the function ```Animate``` in the cell below reads in the dictionary returned by ```IV_Main``` and sequentially plots the surface of implied volatility for each of its entries. As before, the function ```Interpol``` is used to interpolate the values between existing data points in order to obtain a densely populated grid."
   ]
  },
  {
   "cell_type": "code",
   "execution_count": 11,
   "id": "167251f4-6ff9-45c6-87a1-232e201ab76b",
   "metadata": {},
   "outputs": [],
   "source": [
    "def Interpol(DF):\n",
    "    x = DF['T']\n",
    "    y = DF['K']\n",
    "    z = DF['IV_calc']\n",
    "    S = DF['S'].iloc[0]\n",
    "    xi = np.linspace(min(x), max(x), 100)\n",
    "    yi = np.linspace(min(y), max(y), 100)\n",
    "    X, Y = np.meshgrid(xi, yi)\n",
    "    Z = griddata((x, y), z, (X, Y), method='linear')\n",
    "    return X,Y*100/S,Z\n",
    "\n",
    "def Animate(DATA):\n",
    "    DFs = list(DATA.values())\n",
    "    ticker = DFs[0]['Ticker'].iloc[0]\n",
    "    #set up grid\n",
    "    T_grid,K_grid,IV_M= Interpol(DFs[0])\n",
    "    fig = plt.figure(figsize=(10, 7))\n",
    "    ax = fig.add_subplot( projection='3d')\n",
    "    #create surface plot\n",
    "    surf = ax.plot_surface(T_grid, K_grid, 100*IV_M, cmap=\"jet\", edgecolor='none')\n",
    "    cbar = fig.colorbar(surf, ax=ax, pad=0.1)\n",
    "    #labels\n",
    "    ax.set_zlim(0,2)\n",
    "    ax.set_xlabel(r\"$Time \\ to \\ Maturity (y)$\",fontsize=18)\n",
    "    ax.set_ylabel(r\"$Strike \\ Price (\\% of Spot)$\",fontsize=18)\n",
    "    ax.set_zlabel(r\"$Implied \\ Volatility (\\%)$\",fontsize=18)\n",
    "    ax.set_title(r\"$Surface \\ of \\ Implied \\ Volatility \\ for \\ {}$\".format(ticker),fontsize=18)\n",
    "    ax.view_init(30,30)\n",
    "\n",
    "    def init():\n",
    "        surf = ax.plot_surface(T_grid, K_grid, 100*IV_M, cmap='jet', edgecolor='none')\n",
    "        return surf\n",
    "\n",
    "    def update(i):\n",
    "        nonlocal ax,surf\n",
    "        ax.clear()\n",
    "        ticker = DFs[i]['Ticker'].iloc[0]\n",
    "        T_grid,K_grid,IV_M= Interpol(DFs[i])\n",
    "        ax.cla()\n",
    "        surf=ax.plot_surface(T_grid, K_grid, 100*IV_M, cmap='jet', edgecolor='none')\n",
    "        cbar.update_normal(surf)  \n",
    "        ax.view_init(30,30)\n",
    "\n",
    "        ax.set_xlabel(r\"$Time \\ to \\ Maturity (y)$\",fontsize=18)\n",
    "        ax.set_ylabel(r\"$Strike \\ Price (\\% \\ of \\ Spot)$\",fontsize=18)\n",
    "        ax.set_zlabel(r\"$Implied \\ Volatility (\\%)$\",fontsize=18)\n",
    "        ax.set_title(r\"$Current \\ Surface \\ of \\ Implied \\ Volatility \\ for \\ {}$\".format(ticker),fontsize=18)\n",
    "\n",
    "    ani = FuncAnimation(fig, update,init_func=init, frames = len(DFs),interval=1000, repeat=True)\n",
    "    plt.show()\n",
    "    return ani"
   ]
  },
  {
   "cell_type": "markdown",
   "id": "2f4f2d6b-d555-49c7-90c4-d6e5e0e4f79c",
   "metadata": {},
   "source": [
    "The filtering criteria for moneyness and expiry time are set in the main function below. They ensure that the grid remains constant for all tickers."
   ]
  },
  {
   "cell_type": "code",
   "execution_count": null,
   "id": "813f6987-a8d6-4bc1-9ee4-45901a68b9e6",
   "metadata": {},
   "outputs": [],
   "source": [
    "if __name__=='__main__':\n",
    "    #set parameters\n",
    "    K_min, K_max= 70.0, 120.0  #Strike as a % of spot price\n",
    "    T_min, T_max = 5,200       #in days\n",
    "    r = 0.05                   #risk-free-rate\n",
    "    q = 0.015                  #dividend rate\n",
    "    date = pd.Timestamp('today').normalize()\n",
    "    tickers = ['NVDA','SPY','TSLA','AMZN']\n",
    "    DATA = IV_Main(tickers)\n",
    "    \n",
    "    anim = Animate(DATA)\n"
   ]
  },
  {
   "cell_type": "code",
   "execution_count": 12,
   "id": "60df62f5-e724-479d-b6b8-3bdf893d905a",
   "metadata": {},
   "outputs": [
    {
     "data": {
      "text/html": [
       "<img src=\"https://pouch.jumpshare.com/preview/awmjR8OMl8x-GP0SmPu6LeNETDuja8B2mpuile7Vt-VmgxEIVDpdBZpsfygRhM3GxxgoyZd78aehNEv0flh8h8X556Tk1Hb8GIDvwT34J_U\"/>"
      ],
      "text/plain": [
       "<IPython.core.display.Image object>"
      ]
     },
     "execution_count": 12,
     "metadata": {},
     "output_type": "execute_result"
    }
   ],
   "source": [
    "from IPython.display import Image\n",
    "Image(url='https://pouch.jumpshare.com/preview/awmjR8OMl8x-GP0SmPu6LeNETDuja8B2mpuile7Vt-VmgxEIVDpdBZpsfygRhM3GxxgoyZd78aehNEv0flh8h8X556Tk1Hb8GIDvwT34J_U')"
   ]
  },
  {
   "cell_type": "markdown",
   "id": "1dbfaf91-6839-4342-9e0a-b77d7056422f",
   "metadata": {},
   "source": [
    "## References\n",
    "<a id=\"ref1\"></a>[1]  Hull, J. C. (2011). \"<a href=\"https://www.google.com/books/edition/_/FeUuAAAAQBAJ?sa=X&ved=2ahUKEwiK86_Rz8aMAxWGF1kFHerLC_0Qre8FegQIKxBE\">*Options, Futures, and Other Derivatives.*</a>\" (n.p.): Pearson Education."
   ]
  }
 ],
 "metadata": {
  "kernelspec": {
   "display_name": "Python 3 (ipykernel)",
   "language": "python",
   "name": "python3"
  },
  "language_info": {
   "codemirror_mode": {
    "name": "ipython",
    "version": 3
   },
   "file_extension": ".py",
   "mimetype": "text/x-python",
   "name": "python",
   "nbconvert_exporter": "python",
   "pygments_lexer": "ipython3",
   "version": "3.12.2"
  }
 },
 "nbformat": 4,
 "nbformat_minor": 5
}
