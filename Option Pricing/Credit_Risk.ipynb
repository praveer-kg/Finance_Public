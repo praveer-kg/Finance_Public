{
 "cells": [
  {
   "cell_type": "markdown",
   "id": "ce775eb2-2ea0-45ae-946d-057cc20a7482",
   "metadata": {},
   "source": [
    "<h1 align = \"center\",style =\"font-size\":40px>Merton Model for Credit Risk</h1>\n",
    "\n",
    "\n",
    "<h2 style = \"font-size:25px\"><ins>Theory</ins></h2> \n",
    "\n",
    "The Black-Scholes formula is an expression for the price of a European call option given the price $S$ and volatility($\\sigma$) of the underlying asset, as well as the maturiy time $T$:\n",
    "\n",
    "<a id=\"eq-BSF\"></a>\n",
    "$$\n",
    "\\begin{equation}\\tag{1}\n",
    "C(0,S) = S_0 N(d_1) - K e^{-rT} N(d_2)\n",
    "\\end{equation}\n",
    "$$\n",
    "where \n",
    "\n",
    "$$\n",
    "\\begin{align*}\n",
    "d_1 &= \\frac{\\log(S_0/K) + (r+ \\sigma^2/2)T}{\\sigma \\sqrt{T}}\\\\\n",
    "d_2 &= d_1 - \\sigma \\sqrt{T}\n",
    "\\end{align*}\n",
    "$$\n",
    "It is derived by assuming that the stock price is modelled by the stochastic differential equation $dS_t = \\mu S_t dt + \\sigma S_t dW_t$, which has the solution\n",
    "\n",
    "<a id=\"eq-S_T\"></a>\n",
    "$$\n",
    "\\begin{equation}\\tag{2}\n",
    "\\ln(S_T) = \\ln(S_0) + (r - \\frac{1}{2}\\sigma^2)T + \\sigma \\sqrt{T} Z\n",
    "\\end{equation}\n",
    "$$\n",
    "\n",
    "where $Z \\sim \\mathcal{N}(0,1)$ is a normal random variable. Under the risk-neutral measure($\\mu \\to r$), we arrive at a simple interpretation for $N(d_2)$ where $N(x)$ is the standard cumulative distribution function. That is, it's the probability that a standard random variable $\\mathcal{N}$ has a value smaller than $x$:\n",
    "$$\n",
    "N(x) = \\mathbb{P}(Z<x)\n",
    "$$\n",
    "Since $\\mathcal{N}$ is symmetric about $0$,\n",
    "$$\n",
    "\\begin{align*}\n",
    "N(d_2) &= \\mathbb{P}(Z< d_2)\\\\\n",
    "&= \\mathbb{P}(Z > -d_2)\\\\\n",
    "&= \\mathbb{P}\\left(Z > -\\frac{\\log(S_0/K) - (r - \\sigma^2/2)T}{\\sigma \\sqrt{T}} \\right)\\\\\n",
    "\\end{align*}\n",
    "$$\n",
    "\n",
    "Substituting the expression for $Z$ from <a href=\"#eq-S_T\"> (2) </a>,\n",
    "$$\n",
    "\\begin{align*}\n",
    "N(d_2) &= \\mathbb{P}(\\ln(S_T)> \\ln(K))\\\\\n",
    "       &= \\mathbb{P}(S_T> K)\n",
    "\\end{align*}\n",
    "$$\n",
    "Therefore, $N(d_2)$ is the probability that the option is in the money at maturity. Merton<a href=\"#ref1\"><sup>[1]</sup></a> proposed that default probabilities could be estimated by modelling the equity of a firm as an option on its assets, with the firm's debt as the strike price. He assumed that the firm can neither pay out dividends nor issue new debt until the maturity of its current debt $D$, and that the market is frictionless(that is, the total asset value equals the sum of total equity and total debt). Consequently, there are two possibilities when the debt matures(at time $T$):\n",
    "* The value of assets is larger than the debt, in which case the debt $D$ is paid back to lenders, and shareholders are left with $A_T - D$ in equity\n",
    "* The debt exceeds the value of assets, leaving lenders with the firm's assets $A_T$ to liquidate, and the shareholders receive nothing\n",
    "\n",
    "Mathematically, $E_T = \\text{max}\\{ (A_T - D), 0 \\}$ and $D = \\text{min}\\{ A_T,D\\}$.\n",
    "\n",
    "Applying the Black-Scholes call formula, the initial(current) value of equity is \n",
    "<a id=\"eq-EV\"></a>\n",
    "$$\n",
    "\\begin{equation}\\tag{3}\n",
    "E_0 = V_0 N(d_1) - D e^{-rT}N(d_2)\n",
    "\\end{equation}\n",
    "$$\n",
    "where \n",
    "$$\n",
    "\\begin{align*}\n",
    "d_1 &= \\frac{\\log(V_0/D) + (r+ \\sigma_V^2/2)(T-t)}{\\sigma_V \\sqrt{T}}\\\\\n",
    "d_2 &= d_1 - \\sigma_V \\sqrt{T}\n",
    "\\end{align*}\n",
    "$$\n",
    "The default probability is then given by $\\mathbb{P}(V_T < D)$, which is simply the probability that the option is out of the money:\n",
    "$$\n",
    "\\begin{align*}\n",
    "PD &= 1 - \\mathbb{P}(V_T > D) \\\\\n",
    "   &= N(-d_2)\n",
    "\\end{align*}\n",
    "$$\n",
    "as discussed above. To calculate this probability, we need $V_0$ and $\\sigma_V$, neither of which are observable. In a risk-neutral scenario like ours, where we've hedged the option price against the underlying asset(that's how  <a href=\"#eq-BSF\"> (1) </a> is derived: see <a href=\"https://github.com/praveer-kg/Finance_Public/blob/main/Option%20Pricing/1.%20Black-Scholes%20and%20Implied%20Volatility.ipynb\">this notebook</a>), we can apply Itô's lemma to obtain the following relationship between the call price and asset price:\n",
    "\n",
    "\n",
    "$$\n",
    "\\sigma_E E = \\frac{\\partial E}{\\partial V} \\sigma_V V\n",
    "$$\n",
    "At the initial time,\n",
    "<a id=\"eq-Sec\"></a>\n",
    "$$\n",
    "\\begin{equation}\\tag{4}\n",
    "\\sigma_E E_0 = N(d_1) \\sigma_V V_0\n",
    "\\end{equation}\n",
    "$$\n",
    "which gives us a second equation (following <a href=\"#eq-EV\"> (3) </a>) to solve for the two unknown variables $\\sigma_V$ and $V_0$. These values can then be used to calculate $N(-d_2)$, which is the probability of default."
   ]
  },
  {
   "cell_type": "markdown",
   "id": "ccaa1f10-b9cf-49ec-85e0-2b8b7b07a889",
   "metadata": {},
   "source": [
    "<h2 style = \"font-size:25px\"><ins>Code</ins></h2> \n",
    "\n",
    "I will implement Merton's model for a few stocks using Python. First, let's import some modules to solve <a href=\"#eq-EV\"> (3) </a> and <a href=\"#eq-Sec\"> (4) </a>, calculate $N(.)$ and query stock data to obtain $\\sigma_E$ from. "
   ]
  },
  {
   "cell_type": "code",
   "execution_count": 1,
   "id": "478f888f-249f-4c24-b3a5-95ab0433fd1e",
   "metadata": {},
   "outputs": [],
   "source": [
    "from scipy.optimize import root\n",
    "from scipy.stats import norm\n",
    "import numpy as np\n",
    "import yfinance as yf\n",
    "import pandas as pd"
   ]
  },
  {
   "cell_type": "markdown",
   "id": "aec52db9-99bd-41ce-beaf-a7f0b2fa3af1",
   "metadata": {},
   "source": [
    "The function below implements a root solving algorithm to solve the transcendental equations <a href=\"#eq-EV\"> (3) </a> and <a href=\"#eq-Sec\"> (4) </a>. It reads in the relevant constants and returns a pair of equations in $V_0$ and $\\sigma_V$, which are then supplied to ```scipy.optimize.root```, along with the initial guesses for $V_0$ and $\\sigma_V$."
   ]
  },
  {
   "cell_type": "code",
   "execution_count": 2,
   "id": "be18d50f-87e2-4ee5-993a-ad9ad0a3d155",
   "metadata": {},
   "outputs": [],
   "source": [
    "def Merton_Solve(vars, E0, σ_E, D, r, T):\n",
    "    V0, σ_V = vars\n",
    "    d1 = (np.log(V0 / D) + (r + 0.5 * σ_V**2) * T) / (σ_V * np.sqrt(T))\n",
    "    d2 = (np.log(V0 / D) + (r - 0.5 * σ_V**2) * T) / (σ_V * np.sqrt(T))\n",
    "\n",
    "    f1 = V0 * norm.cdf(d1) - D * np.exp(-r * T) * norm.cdf(d2) - E0\n",
    "    f2 = σ_V * V0 * norm.cdf(d1) - σ_E * E0\n",
    "    return [f1, f2]"
   ]
  },
  {
   "cell_type": "markdown",
   "id": "e1a2615a-c572-4094-846a-339aeafbede3",
   "metadata": {},
   "source": [
    "I will first apply the model to Apple stocks using $\\texttt{yfinance}$. The debt $D$ is listed as $\\$176$bn on their financial statement dated 28 September 2024<a href=\"#ref2\"><sup>[2]</sup></a>. The market cap $E_0$ was $\\$3500$bn on that date according to public records. Finally, the volatility $\\sigma_E$ can be calculated using stocks data provided by $\\texttt{yfinance}$, and the riks-free rate is set to $4.2\\%$."
   ]
  },
  {
   "cell_type": "code",
   "execution_count": 3,
   "id": "de6341f8-9405-4aa4-b30c-e78086b08b23",
   "metadata": {},
   "outputs": [
    {
     "name": "stdout",
     "output_type": "stream",
     "text": [
      "YF.download() has changed argument auto_adjust default to True\n"
     ]
    },
    {
     "name": "stderr",
     "output_type": "stream",
     "text": [
      "[*********************100%***********************]  1 of 1 completed"
     ]
    },
    {
     "name": "stdout",
     "output_type": "stream",
     "text": [
      "Probability of Default = 2.2887093283883895e-19\n"
     ]
    },
    {
     "name": "stderr",
     "output_type": "stream",
     "text": [
      "\n"
     ]
    }
   ],
   "source": [
    "#calculate volatility\n",
    "ticker = \"AAPL\"\n",
    "start =pd.Timestamp(2024,9,1)\n",
    "stop = pd.Timestamp(\"today\")\n",
    "data = yf.download(ticker, start, stop)    #download data\n",
    "close_prices = data[\"Close\"]\n",
    "returns = close_prices.pct_change().dropna()\n",
    "returns = returns[ticker].to_numpy()\n",
    "\n",
    "σ_E = np.std(returns)*np.sqrt(252)\n",
    "E0 = 3500\n",
    "D = 176\n",
    "r = 0.042\n",
    "T = 1\n",
    "initial_guess = [1.5 * E0, σ_E]  \n",
    "sol = root(Merton_Solve, initial_guess, args=(E0, σ_E, D, r, T))\n",
    "V0, σ_V = sol.x\n",
    "\n",
    "P = norm.cdf(-(np.log(V0 / D) + (r - 0.5 * σ_V**2) * T) / (σ_V * np.sqrt(T)))\n",
    "print(\"Probability of Default =\",P)"
   ]
  },
  {
   "cell_type": "markdown",
   "id": "b93045a7-47d7-4414-a972-e73272313e9b",
   "metadata": {},
   "source": [
    "The probability is close to zero(~$ 10^{-19}$ on my local machine) as expected, given that Apple is \"too big to fail\". \n",
    "\n",
    "Now let's analyze Carnival Corporation instead, a company which was labelled a \"corporate zombie\" by Bloomberg<a href=\"#ref4\"><sup>[3]</sup></a> . Its financial statement<a href=\"#ref4\"><sup>[4]</sup></a> lists current liabilities totalling $11.6$bn as of November 2024, at which point its market cap was roughly $\\$34$bn."
   ]
  },
  {
   "cell_type": "code",
   "execution_count": 4,
   "id": "58d546d9-9587-41ed-b165-a88545b873f9",
   "metadata": {},
   "outputs": [
    {
     "name": "stderr",
     "output_type": "stream",
     "text": [
      "[*********************100%***********************]  1 of 1 completed"
     ]
    },
    {
     "name": "stdout",
     "output_type": "stream",
     "text": [
      "Probability of Default = 0.00045003553641007776\n"
     ]
    },
    {
     "name": "stderr",
     "output_type": "stream",
     "text": [
      "\n"
     ]
    }
   ],
   "source": [
    "#calculate volatility\n",
    "ticker = \"CCL\"\n",
    "start =pd.Timestamp(2024,10,1)\n",
    "stop = pd.Timestamp(\"today\")\n",
    "data = yf.download(ticker, start, stop)    #download data\n",
    "close_prices = data[\"Close\"]\n",
    "returns = close_prices.pct_change().dropna()\n",
    "returns = returns[ticker].to_numpy()\n",
    "\n",
    "σ_E = np.std(returns)*np.sqrt(252)\n",
    "E0 = 35\n",
    "D = 11.6\n",
    "r = 0.042\n",
    "T = 1\n",
    "initial_guess = [1.5 * E0, σ_E]  \n",
    "sol = root(Merton_Solve, initial_guess, args=(E0, σ_E, D, r, T))\n",
    "V0, σ_V = sol.x\n",
    "\n",
    "P = norm.cdf(-(np.log(V0 / D) + (r - 0.5 * σ_V**2) * T) / (σ_V * np.sqrt(T)))\n",
    "print(\"Probability of Default =\",P)"
   ]
  },
  {
   "cell_type": "markdown",
   "id": "7d3cb998-2541-4528-8211-4e264c14937c",
   "metadata": {},
   "source": [
    "The probability of default is about $15$ orders of magnitude higher, in line with perceptions of the company."
   ]
  },
  {
   "cell_type": "markdown",
   "id": "90ec83d1-c925-433c-9689-08ca8dbc64bc",
   "metadata": {},
   "source": [
    "## References\n",
    "<a id=\"ref1\"></a>[1]  Merton, R.C. (1974), \"<a href=\"https://onlinelibrary.wiley.com/doi/10.1111/j.1540-6261.1974.tb03058.x\">*ON THE PRICING OF CORPORATE DEBT: THE RISK STRUCTURE OF INTEREST RATES*</a>\" The Journal of Finance, 29: 449-470.\n",
    "\n",
    "<a id=\"ref2\"></a>[2]  \"<a href=\"https://www.apple.com/newsroom/2024/10/apple-reports-fourth-quarter-results/\">*Apple reports fourth quarter results*</a>\", apple.com\n",
    "\n",
    "<a id=\"ref3\"></a>[3]  \"<a href=\"https://www.bloomberg.com/news/articles/2020-11-17/america-s-zombie-companies-have-racked-up-1-4-trillion-of-debt\">*America’s Zombie Companies Rack Up $2 Trillion of Debt*</a>\", bloomberg.com\n",
    "\n",
    "<a id=\"ref4\"></a>[4]  \"<a href=\"https://www.carnivalcorp.com/wp-content/uploads/2024/08/Carnival-Corporation-plc-2024-Annual-Report.pdf\">*Carnival Corporation \\& PLC 2024 ANNUAL REPORT*</a>\", carnivalcorp.com"
   ]
  }
 ],
 "metadata": {
  "kernelspec": {
   "display_name": "Python 3 (ipykernel)",
   "language": "python",
   "name": "python3"
  },
  "language_info": {
   "codemirror_mode": {
    "name": "ipython",
    "version": 3
   },
   "file_extension": ".py",
   "mimetype": "text/x-python",
   "name": "python",
   "nbconvert_exporter": "python",
   "pygments_lexer": "ipython3",
   "version": "3.12.2"
  }
 },
 "nbformat": 4,
 "nbformat_minor": 5
}
