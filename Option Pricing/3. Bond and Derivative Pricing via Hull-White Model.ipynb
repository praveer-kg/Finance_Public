{
 "cells": [
  {
   "attachments": {},
   "cell_type": "markdown",
   "id": "f8eed8e8-ce9d-41ec-8fdf-b864f9a2ecf4",
   "metadata": {},
   "source": [
    "<h1 align = \"center\",style =\"font-size\":40px> Hull-White Model for Bond Derivative Pricing</h1>\n",
    "\n",
    "<h2>Modelling Interest Rates with a Trinomial Tree</h2>\n",
    "Proposed in 1990, the Hull-White model<a href=\"#ref1\"><sup>[1]</sup></a> assumes that the instantaneous interest rate $r$ is governed by a stochastic differential equation\n",
    "\n",
    "<a id =\"SDE\"></a>\n",
    "$$\n",
    "\\begin{equation} \\tag{1}\n",
    "dr_t = [\\theta(t) - a r_t]dt + \\sigma dW_t\n",
    "\\end{equation}\n",
    "$$\n",
    "where $a$ and $\\sigma$ are constants, and $dW_t$ is a standard Wiener process of variance $dt$. This notebook describes how to price a bond using equation <a href=\"#SDE\">(1)</a> via trinomial trees. The tree will be constructed in two stages, closely following the exposition in Hull's textbook <a href=\"#ref2\"><sup>[2]</sup></a>.\n",
    "<h3>Stage I</h3>\n",
    "We first assume that the interest rate over a short time $\\Delta t$ follows the same process as $r$: \n",
    "\n",
    "$$\n",
    "\\begin{equation*} \n",
    "dR_t = [\\theta(t) - a R_t]dt + \\sigma dW_t\n",
    "\\end{equation*}\n",
    "$$\n",
    "Next, we assume that $R$ can move in one of three directions at any point: up($R \\to R + \\Delta R $), down($R \\to R - \\Delta R$) and middle($R \\to R$). The evolution of $R$ can therefore be described by a trinomial tree, with an additional complication that the branch structure varies based on $j$(see figure below). "
   ]
  },
  {
   "attachments": {},
   "cell_type": "markdown",
   "id": "2b44aa29-0ba8-475b-8bbb-804cfc7e6159",
   "metadata": {},
   "source": [
    "<center>\n",
    "  <img src=\"https://github.com/praveer-kg/Finance_Public/blob/main/Option%20Pricing/gifs/Branches.png?raw=true\" alt=\"Caption for the image\">\n",
    "  <figcaption><b>Fig.1</b> Branching methods.</figcaption>\n",
    "</center>"
   ]
  },
  {
   "cell_type": "markdown",
   "id": "7adf10c7-3baa-48b0-bcda-78f213b9a51e",
   "metadata": {},
   "source": [
    "Hull and White found that in order to maintain positive probabilites throughout, it was necessary to switch from the standard branching scheme (a) to the branching scheme (b) for highly positive values of $j$ and from (a) to (c) for highly negative values of $j$. The limits they provided are \n",
    "$$j_{\\text{max}} = [0.184/(a \\Delta t)], \\quad j_{\\text{min}} = -j_{\\text{max}}$$\n",
    "where $[.]$ is the step function. \n",
    "\n",
    "Furthermore, they first construct a tree for a variable $R^*$(rather than $R$) that is initially zero and follows the process\n",
    "\n",
    "<a id =\"SDE-R\"></a>\n",
    "$$\n",
    "\\begin{equation}\\tag{2}\n",
    "dR_t^* = - a R_t^* dt + \\sigma dW_t\n",
    "\\end{equation}\n",
    "$$\n",
    "Once $R^*$ is modelled by a trinomial tree, we will offset it by $\\alpha(t)$ in order to obtain $R(t)$ in the second stage. Equation <a href=\"#SDE-R\">(2)</a>  tells us that the variable $dR_t^*$ is randomly distributed, with a mean of $-a R_t^*dt$ and a variance of $\\sigma^2 \\Delta t$:\n",
    "$$\n",
    "\\begin{align}\n",
    "\\mathbb{E}[R^*(t + \\Delta t)- R^*(t)] &= - aR(t)^*dt\\\\\n",
    "\\text{Var}[-a R_t^*dt]&=\\sigma^2 \\Delta t\n",
    "\\end{align}\n",
    "$$\n",
    "Conservation of probability gives us a third equation for $p_u, p_d$ and  $p_m$ at the $j^{th}$ node, forming a system of equations that can be algebraically solved:\n",
    "$$\n",
    "\\begin{align*}\n",
    "p_u \\Delta R - p_d \\Delta R &= - a j \\Delta R \\Delta t\\\\\n",
    "p_u \\Delta R^2 + p_d \\Delta R^2 &= \\sigma^2 \\Delta t + a^2 j^2 \\Delta R^2 \\Delta t^2\\\\\n",
    "p_u + p_m + p_d &= 1\n",
    "\\end{align*}\n",
    "$$\n",
    "The spacing between adjacent nodes is $\\Delta R \\equiv \\sigma \\sqrt{3 \\Delta t}$, which yields\n",
    "$$\n",
    "\\begin{align*}\n",
    "p_u &=  \\frac{1}{6} + \\frac{1}{2} (a^2 j^2 \\Delta t^2 - a j \\Delta t)\\\\\n",
    "p_m &= \\frac{2}{3} - a^2 j^2 \\Delta t^2\\\\\n",
    "p_d &=  \\frac{1}{6} + \\frac{1}{2} (a^2 j^2 \\Delta t^2 + a j \\Delta t)\n",
    "\\end{align*}\n",
    "$$\n",
    "Similarly, for the branching shown in (b), we have:\n",
    "$$\n",
    "\\begin{align*}\n",
    "p_u &=  \\frac{1}{6} + \\frac{1}{2} (a^2 j^2 \\Delta t^2 + a j \\Delta t)\\\\\n",
    "p_m &= -\\frac{1}{3} - a^2 j^2 \\Delta t^2 - 2 a j \\Delta t\\\\\n",
    "p_d &=  \\frac{7}{6} + \\frac{1}{2} (a^2 j^2 \\Delta t^2 + 3a j \\Delta t)\n",
    "\\end{align*}\n",
    "$$\n",
    "\n",
    "Finally, for the last branching scheme depicted in (c),\n",
    "$$\n",
    "\\begin{align*}\n",
    "p_u &=  \\frac{1}{6} + \\frac{1}{2} (a^2 j^2 \\Delta t^2 - 3a j \\Delta t)\\\\\n",
    "p_m &= -\\frac{1}{3} - a^2 j^2 \\Delta t^2 + 2 a j \\Delta t\\\\\n",
    "p_d &=  \\frac{7}{6} + \\frac{1}{2} (a^2 j^2 \\Delta t^2 - a j \\Delta t)\n",
    "\\end{align*}\n",
    "$$\n",
    "As a demonstration and a sanity check, I will re-produce the tree from the book with $\\sigma = 0.01, a = 0.1$ and $\\Delta t=1$ y. These values result in $\\Delta R = 0.0173$ and $j_{\\text{max}} = 2$. The cell below defines these parameters and imports the required modules:\n"
   ]
  },
  {
   "cell_type": "code",
   "execution_count": 1,
   "id": "dd7a41b9-05bd-41d7-8b2a-692f5b95bdae",
   "metadata": {},
   "outputs": [],
   "source": [
    "import numpy as np\n",
    "\n",
    "a = 0.1\n",
    "N = 3\n",
    "sigma = 0.01\n",
    "Δt = 1\n",
    "ΔR = 0.01 * np.sqrt(3*Δt)\n",
    "j_max = int(np.ceil(0.184 / (a * Δt)))"
   ]
  },
  {
   "cell_type": "markdown",
   "id": "4b900e92-a23d-4e6b-9bc3-b0396d843b71",
   "metadata": {},
   "source": [
    "We now define a function that outputs the probabilities $p_u, p_m$ and $p_d$ based on $a, j$ and $\\Delta t$.<a id =\"probs\"></a>\n",
    " "
   ]
  },
  {
   "cell_type": "code",
   "execution_count": 2,
   "id": "461b2722-e127-4ab1-b88d-b57ecb693295",
   "metadata": {},
   "outputs": [],
   "source": [
    "def probs(a,j,Δt):\n",
    "    ajΔt = a*j*Δt\n",
    "    j_max = int(np.ceil(0.184 / (a * Δt)))\n",
    "\n",
    "    if abs(j) <= j_max:\n",
    "        p_u = (1/6) + 0.5 * (ajΔt**2 - ajΔt)\n",
    "        p_m = (2/3) - ajΔt**2\n",
    "        p_d = (1/6) + 0.5 * (ajΔt**2 + ajΔt)\n",
    "\n",
    "        return p_u, p_m, p_d\n",
    "    elif j < 0:\n",
    "        p_u = (1/6) + 0.5 * (ajΔt**2 + ajΔt)\n",
    "        p_m = -(1/3) - ajΔt**2 - 2 * ajΔt\n",
    "        p_d = (7/6) + 0.5 * (ajΔt**2 + 3 * ajΔt)\n",
    "\n",
    "        return p_u, p_m, p_d\n",
    "    else:\n",
    "        p_u = (7/6) + 0.5 * (ajΔt**2 - 3*ajΔt)\n",
    "        p_m = -(1/3) - ajΔt**2 + 2 * ajΔt\n",
    "        p_d = (1/6) + 0.5 * (ajΔt**2 - ajΔt)\n",
    "        return p_u, p_m, p_d"
   ]
  },
  {
   "cell_type": "markdown",
   "id": "2422b80c-81f9-4e3f-abb7-d16020bdca33",
   "metadata": {},
   "source": [
    "With that, we are ready to construct our tree, which will be represented by a dictionary with node coordinated $(i,j)$ as keys and the respective interest rates $R^*_{i,j}$ as the values. Note that $i$ represents the time $i \\Delta t$ and $j$ represents the node position at that time. "
   ]
  },
  {
   "cell_type": "code",
   "execution_count": 3,
   "id": "2a40bc48-484a-4074-a87c-bb1f7c54bb77",
   "metadata": {},
   "outputs": [],
   "source": [
    "R_star = {}\n",
    "for t in range(N + 1):\n",
    "    for j in range(-t, t + 1):\n",
    "        if abs(j) <= j_max:\n",
    "            value = j\n",
    "        elif j > 0:\n",
    "            value = j - 1\n",
    "        else:\n",
    "            value = j + 1\n",
    "            \n",
    "        R_star[(t, j)] = value * ΔR"
   ]
  },
  {
   "cell_type": "markdown",
   "id": "83457644-1693-461f-aae6-53620e53ad17",
   "metadata": {},
   "source": [
    "The figure below depicts the tree ```R_star```(see <a href = \"https://github.com/praveer-kg/Finance_Public/blob/main/Option%20Pricing/gifs/Graph2.png\">here</a> for another version with the transition probabilities printed on the edges)."
   ]
  },
  {
   "attachments": {},
   "cell_type": "markdown",
   "id": "6cf2fc81-bf8a-4bf2-81d2-21ee6ee6d8aa",
   "metadata": {},
   "source": [
    "<center>\n",
    "  <img src=\"https://github.com/praveer-kg/Finance_Public/blob/main/Option%20Pricing/gifs/Graph.png?raw=true\" alt=\"Caption for the image\">\n",
    "  <figcaption><b>Fig.2</b> Trinomial tree with modified branching at the penultimate time step.</figcaption>\n",
    "</center>"
   ]
  },
  {
   "cell_type": "markdown",
   "id": "868196ab-3210-48be-9282-be73d07ac7ea",
   "metadata": {},
   "source": [
    "<h3>Stage II</h3>\n",
    "The next step is to calculate the offset $\\alpha(t)$ such that $R(t) \\equiv R^*(t) + \\alpha(t)$ matches the initial term structure of interest rates. Hull provides the following table of interest rates for the tree we have just constructed:\n",
    "\n",
    "| Maturity(y) | Rate(%) |\n",
    "|-------------------|-------|\n",
    "| 0.5               | 3.430 |\n",
    "| 1.0               | 3.824 |\n",
    "| 1.5               | 4.183 |\n",
    "| 2.0               | 4.512 |\n",
    "| 2.5               | 4.812 |\n",
    "| 3.0               | 5.086 |\n",
    "<b>Table 1</b>: Sample yields for example tree"
   ]
  },
  {
   "cell_type": "markdown",
   "id": "115e1a9f-8f3d-4f16-baf8-a4fd06d8f1f8",
   "metadata": {},
   "source": [
    "The initial value $\\alpha_0$ is straightforward since we've chosen $R^*$ to be initially zero: it is simply the rate corresponding to the first $\\Delta t$ period(i.e, $\\alpha_0 = 3.824 \\%$). However, for later times, we will need to first calculate $Q_{i,j}$, which is the present value of a security that pays off $ \\$1$ if node $(i,j)$ is reached, and zero otherwise. There is a simple relationship between the bond price $p$ at node $(m+1,j)$, the $\\alpha$ at time $m\\Delta t$ and $Q_{m,j}$ at the node $(m,j)$ :\n",
    "$$\n",
    "\\begin{align}\n",
    "P_{m+1} = \\sum_{k=-n_m}^{n_m} Q(m,k) \\exp[-(\\alpha_m + k \\Delta R)\\Delta t]\\\\\n",
    "\\end{align}\n",
    "$$\n",
    "where $n_m$ is the number of positive/negative nodes on either side of the zeroth node at time $m$. We can use the available interest rates to calculate the market price:\n",
    "$$\n",
    "P^{\\text{market}}_{m+1} = \\exp[-R_{m+1} T_{m+1}]\n",
    "$$\n",
    "where $T_{m+1} = (m+1) \\Delta t$. Matching this price to the $P_{m+1}$ obtained from the tree allows us to calculate $\\alpha_m$:\n",
    "$$\n",
    "\\alpha_m = -\\frac{1}{\\Delta t} \\ln \\left( \\frac{P^{\\text{market}}_{m+1}}{\\sum_{j} Q_{m,k}. e^{-k \\Delta R \\Delta t}} \\right)\n",
    "$$\n",
    "Once $\\alpha_m$ has been determined from $Q_{m,j}$, the next step is to calculate $Q_{m+1,j}$ as follows:\n",
    "$$\n",
    "Q_{m+1,j} = \\sum_k Q_{m,k} p(k,j) \\exp[-(\\alpha_m + k \\Delta R) \\Delta t ]\n",
    "$$\n",
    "\n",
    "where $p(k,j)$ is the probability of going from node $(m,k)$ to node $(m+1,j)$. \n",
    "To summarize the procedure:\n",
    " * Calculate $Q_{m,j}$ from $\\alpha_{m-1}$ \n",
    " * Calculate the market price $P^{\\text{market}}_{m+1}$ using the provided table of interest rates\n",
    " * Calculate $\\alpha_m$ from $P^{\\text{market}}_{m+1}$ and $Q_{m,j}$\n",
    " * Calculate $Q_{m+1,j}$ from $\\alpha_m$\n",
    "\n",
    "That is what we code below by defining arrays for interest rate values, their corresponding maturity times, and the resulting market prices"
   ]
  },
  {
   "cell_type": "code",
   "execution_count": 4,
   "id": "1765e3a4-83f1-4581-a6a6-d54b9f7f8215",
   "metadata": {},
   "outputs": [],
   "source": [
    "t_array = np.array([0,1,2,3,4])\n",
    "zero_rates = np.array([0,0.03824,0.04512,0.050860, 0.05350])\n",
    "P_market = np.array([np.exp(-r * T) for r, T in zip(t_array,zero_rates)])"
   ]
  },
  {
   "cell_type": "markdown",
   "id": "df68174f-e78b-445f-8896-5579929c5bfc",
   "metadata": {},
   "source": [
    "Note that the first value($t = 0$) is just a placeholder that will not be used in our calculations. The final value, corresponding to $T+\\Delta t$ is required to calculate the $\\alpha$ and $Q$ corresponding to $t=T$, which here is three years. I have added an extra interest rate at $t = 4$, so that we can calculate up to $m=3$.\n",
    "\n",
    "We will now create two  dictionaries for $\\alpha$ and $Q$ to store their values with time stamps and position on the tree:"
   ]
  },
  {
   "cell_type": "code",
   "execution_count": 5,
   "id": "7a6dd415-3fc9-4114-8acd-97efc8081f10",
   "metadata": {},
   "outputs": [],
   "source": [
    "Q = {0: {0: 1.0}}  #Q[T_i][j] = value at node(i,j)\n",
    "α = {0: zero_rates[1]}  #α0"
   ]
  },
  {
   "cell_type": "markdown",
   "id": "920d7c3a-fe0c-4da1-a329-6ca2cf14ca1d",
   "metadata": {},
   "source": [
    "Finally, we will implement the algorithm described above:"
   ]
  },
  {
   "cell_type": "code",
   "execution_count": 6,
   "id": "d2b61efd-3f3b-4d99-8e2b-cf06abd0e4c3",
   "metadata": {},
   "outputs": [
    {
     "name": "stdout",
     "output_type": "stream",
     "text": [
      "α(t) =  {0: 0.03824, 1: 0.052049999999991534, 2: 0.06252049999698797, 3: 0.06178720495229365}\n",
      "Q =  {0: {0: 1.0}, 1: {1: 0.16041365291821671, 0: 0.6416546116728669, -1: 0.16041365291821671}, 2: {2: 0.018208983798748666, 1: 0.19979708973690788, 0: 0.4735937652476668, -1: 0.2032612151759592, -2: 0.018850814146593193}, 3: {3: 0.0014319936509400773, 2: 0.032797692051419476, 1: 0.20001730682867416, 0: 0.3805488724411025, -1: 0.20697994879135442, -2: 0.03512557968893043, -3: 0.0015888185397723504}}\n"
     ]
    }
   ],
   "source": [
    "for m in range(N):\n",
    "    #calculate Q[m+1]\n",
    "    Q[m + 1] = {}\n",
    "    for j in Q[m]:\n",
    "        pu, pm, pd = probs(a,j,Δt)\n",
    "        r_mj = α[m] + j * ΔR\n",
    "        disc = np.exp(-r_mj * Δt)\n",
    "        for dj, prob in zip([1, 0, -1], [pu, pm, pd]):\n",
    "            k = j + dj\n",
    "            Q[m + 1][k] = Q[m + 1].get(k, 0.0) + Q[m][j] * prob * disc    #insert Q(i,j) if it exists, zero otherwise\n",
    "    #compute α_{m+1}\n",
    "    discount_sum = sum(Q[m + 1][k] * np.exp(-k * ΔR * Δt) for k in Q[m + 1])\n",
    "    α[m + 1] = -np.log(P_market[m + 2] / discount_sum) / Δt\n",
    "print(\"α(t) = \",α)\n",
    "print(\"Q = \",Q)"
   ]
  },
  {
   "cell_type": "markdown",
   "id": "2c7559c4-d43c-4dd2-8a27-3e165c6ca9a0",
   "metadata": {},
   "source": [
    "The values reflect those given in the source<a href=\"#ref2\"><sup>[2]</sup></a>, validating our implementation."
   ]
  },
  {
   "cell_type": "markdown",
   "id": "aebbc785-17b0-4e26-9836-6a6198fef92d",
   "metadata": {},
   "source": [
    "<h2>Pricing the Bond and its Derivative</h2>\n",
    "Under the Hull-White model, the price at $t$ of a coupon-free bond maturing at $S$, is given by:\n",
    "\n",
    "<a id =\"Price\"></a>\n",
    "$$\n",
    "\\begin{equation}\\tag{3}\n",
    "P(t,T) = \\hat{A}(t,T) e^{- \\hat{B}(t,T)R}\n",
    "\\end{equation}\n",
    "$$\n",
    "\n",
    "where \n",
    "$$\n",
    "\\hat{B}(t,T) = \\frac{B(t,T)}{B(t,t+\\Delta t)} \\Delta t,\n",
    "$$\n",
    "$$\n",
    "\\ln\\hat{A} = \\ln\\left(\\frac{P(0,T)}{P(0,t)} \\right) - \\frac{B(t,T)}{B(t,t+Δt)} \\ln\\left(\\frac{P(0,t + \\Delta t)}{P(0,t)} \\right) - \\frac{\\sigma^2}{4a}(1-e^{-2at})B(t,T)[B(t,T) - B(t,t+Δt)]\n",
    "$$\n",
    "and \n",
    "$$\n",
    "B(t,T) = \\frac{1 - e^{-a(T-t)}}{a}\n",
    "$$"
   ]
  },
  {
   "cell_type": "markdown",
   "id": "b1c95d6f-aa67-4bc3-9f40-e1cb109268dc",
   "metadata": {},
   "source": [
    "A European call option on this bond, with a strike price of $K$ and time to expiry of $T$, is valued at\n",
    "\\begin{align*}\n",
    "V_\\text{Call} &=  L \\cdot P(0,S)  N(h) - K \\cdot P(0,T) N(h - \\sigma_p) \n",
    "\\end{align*}\n",
    "where\n",
    "\\begin{align*}\n",
    "\\sigma_p &= \\sigma \\left [\\frac{1 - e^{-a (S - T))}}{a} \\right] \\sqrt{\\frac{1 - e^{-2  a  T}}{2 a}} \\\\\n",
    "h &= \\frac{1}{\\sigma_p} \\ln\\left(\\frac{L  P(0,S)}{K  P(0,T)}\\right) + \\frac{\\sigma_p}{2}\n",
    "\\end{align*}\n",
    "\n",
    "and $L$ is the face value of the bond.\n",
    "The put option is similarly priced at\n",
    "\\begin{align*}\n",
    "V_\\text{Put} &=   K \\cdot P(0,T) N(-h + \\sigma_p) - L  \\cdot P(0,S) N(-h)\n",
    "\\end{align*}\n",
    "To calculate option prices with a trinomial tree for interest rates, we will first use the analytical expression <a href=\"#Price\">(3)</a> to calculate the bond price $P_{i,j}$ at a node $(i,j)$ using the interest rate $\\alpha_i + R^*_{i,j}$. The corresponding payoff will be\n",
    "\n",
    "$$\\text{payoff} =  \\begin{cases} \n",
    "& \\text{max}\\{(P_{i,j}-K),0 \\} \\ \\text{for calls}\\\\\n",
    " & \\text{max}\\{(K-P_{i,j}),0 \\} \\ \\text{for puts}\n",
    "       \\end{cases}\n",
    "$$\n",
    "\n",
    "The option price is obtained simply by discounting the payoffs with a factor of $e^{- R_{i,j} \\Delta t}$. We will illustrate this using a second example provided by Hull<a href=\"#ref2\"><sup>[2]</sup></a>, where he calculates the price of a 3-year European put option on a zero-coupon bond that matures in nine years. We will set the face value of the bond at $L=100$, the strike price of the put option at $K=63$, $a = 0.1$, $\\sigma = 0.01$ and $N=200$. The cell below defines these parameters and imports the relevant modules"
   ]
  },
  {
   "cell_type": "code",
   "execution_count": 7,
   "id": "40af1b0e-70e1-4c4b-9d4d-7728d09b9bea",
   "metadata": {},
   "outputs": [],
   "source": [
    "import numpy as np\n",
    "from scipy.interpolate import interp1d\n",
    "from scipy.stats import norm\n",
    "\n",
    "a = 0.1\n",
    "σ = 0.01\n",
    "N = 200        #num. of time steps in tree\n",
    "S = 9\n",
    "L = 100\n",
    "K = 63\n",
    "T_option = 3\n",
    "\n",
    "Δt = T_option/N\n",
    "t_array = np.linspace(0,T_option+Δt,N+2)\n",
    "ΔR = 0.01 * np.sqrt(3*Δt)\n",
    "j_max = int(np.ceil(0.184 / (a * Δt)))"
   ]
  },
  {
   "cell_type": "markdown",
   "id": "81d48cd2-d636-40c3-b6a4-aff428c0103e",
   "metadata": {},
   "source": [
    "The table below lists zero rates for maturities ranging from three days to ten years. We are only interested in values up to $t = 3$ y(=$1096$ d) but we will use the entire set to interpolate the values in between the available data points, so that we have accurate enough samples for whatever $N$ we choose.\n",
    "\n",
    "| Maturity(days) | Rate (%) |\n",
    "|---|---|\n",
    "| 3 | 5.01772 |\n",
    "| 31 | 4.98284 |\n",
    "| 62 | 4.97234 |\n",
    "| 94 | 4.96157 |\n",
    "| 185 | 4.99058 |\n",
    "| 367 | 5.09389 |\n",
    "| 731 | 5.79733 |\n",
    "| 1,096 | 6.30595 |\n",
    "| 1,461 | 6.73464 |\n",
    "| 1,826 | 6.94816 |\n",
    "| 2,194 | 7.08807 |\n",
    "| 2,558 | 7.27527 |\n",
    "| 2,922 | 7.30852 |\n",
    "| 3,287 | 7.39790 |\n",
    "| 3,653 | 7.49015 |\n",
    "<b>Table 2</b>: Yield data for example #2"
   ]
  },
  {
   "cell_type": "code",
   "execution_count": 8,
   "id": "ad82ef28-9773-46c4-aba2-6d2f0808990b",
   "metadata": {},
   "outputs": [],
   "source": [
    "maturity_d = np.array([3, 31, 62, 94, 185, 367, 731, 1096, 1461, 1826, 2194, 2558, 2922, 3287, 3653])\n",
    "maturities_y = maturity_d / 365.0\n",
    "\n",
    "rates = np.array([5.01772, 4.98284, 4.97234, 4.96157, 4.99058, 5.09389,5.79733, 6.30595, 6.73464, 6.94816, 7.08807, 7.27527,7.30852, 7.39790, 7.49015]) / 100.0\n",
    "R_interp = interp1d(maturities_y, rates, kind='linear', fill_value='extrapolate')\n",
    "zero_rates =np.array([R_interp(t) for t in t_array]) \n",
    "P_market = np.array([np.exp(-R * t) for t, R in zip(t_array,zero_rates)])"
   ]
  },
  {
   "cell_type": "markdown",
   "id": "6737f325-b786-4bb5-b739-053e519403ab",
   "metadata": {},
   "source": [
    "We will now define functions to calculate bond prices as well as the analytical put price thereof. The probability function defined in <a href=\"#probs\">cell #2</a> still applies."
   ]
  },
  {
   "cell_type": "code",
   "execution_count": 9,
   "id": "55539787-dc27-4a2a-82a9-fe7d85547d75",
   "metadata": {},
   "outputs": [],
   "source": [
    "def P0(t):\n",
    "    return np.exp(-R_interp(t) * t)\n",
    "\n",
    "def B(t,S, a):\n",
    "    return (1 - np.exp(-a * (S - t))) / a\n",
    "\n",
    "def Bhat(t, S, a, Δt):\n",
    "    return Δt * B(t, S, a) / B(t, t + Δt, a)\n",
    "\n",
    "def Ahat(t, S, a, σ, Δt):\n",
    "    BtT = B(t, S, a)\n",
    "    Bttdt = B(t, t + Δt, a)\n",
    "\n",
    "    term1 = np.log(P0(S) / P0(t))\n",
    "    term2 = (BtT / Bttdt) * np.log(P0(t + Δt) / P0(t))\n",
    "    term3 = (σ**2 / (4 * a)) * (1 - np.exp(-2 * a * t)) * BtT * (BtT - Bttdt)\n",
    "\n",
    "    lnAh = term1 - term2 - term3\n",
    "    return np.exp(lnAh)\n",
    "\n",
    "def BP(t, S, r_t, a, σ, Δt):\n",
    "    AtT = Ahat(t, S, a, σ, Δt)\n",
    "    BtT = Bhat(t, S, a, Δt)\n",
    "    return AtT * np.exp(-BtT * r_t)\n",
    "\n",
    "def Sigma_p(a, σ, T, S):\n",
    "    term1 = (1 - np.exp(-a * (S - T))) / a\n",
    "    term2 = np.sqrt((1 - np.exp(-2 * a * T)) / (2 * a))\n",
    "    return σ * term1 * term2\n",
    "\n",
    "def Put_Ana(K, L, T, S, a, σ):\n",
    "    P0T = P0(T)\n",
    "    P0S = P0(S)\n",
    "    σ_p = Sigma_p(a, σ, T, S)\n",
    "    h = (1 / σ_p) * np.log((L * P0S) / (K * P0T)) + σ_p/2\n",
    "    return K * P0T * norm.cdf(-h + σ_p) - L * P0S * norm.cdf(-h)"
   ]
  },
  {
   "cell_type": "markdown",
   "id": "9630f6fb-438f-479e-95a6-67cda24db78c",
   "metadata": {},
   "source": [
    "As a sanity check, it is a good exercise to verify that ```P0(S)``` and ```P(0, S, zero_rates[1], a, σ, Δt)``` are equal(remember that the first entry in ```t_array```&mdash;and so in ```zero_rates``` &mdash; is a dummy variable). Next, we repeat the tree building process done above."
   ]
  },
  {
   "cell_type": "code",
   "execution_count": 10,
   "id": "8c7eee92-1451-4094-a6dd-a18fc2479ac7",
   "metadata": {},
   "outputs": [],
   "source": [
    "R_star = {}\n",
    "for t in range(N):\n",
    "    for j in range(-t, t + 1):\n",
    "        if abs(j) <= j_max:\n",
    "            value = j\n",
    "        elif j > 0:\n",
    "            value = j - 1\n",
    "        else:\n",
    "            value = j + 1\n",
    "            \n",
    "        R_star[(t, j)] = value * ΔR\n",
    "\n",
    "α = {0: R_interp(Δt)}  #initialize α\n",
    "Q = {0: {0: 1.0}}\n",
    "for m in range(N):\n",
    "    Q[m + 1] = {}\n",
    "    for j in Q[m]:\n",
    "        pu, pm, pd = probs(a,j,Δt)\n",
    "        r_mj = α[m] + R_star[(m, j)]\n",
    "        disc = np.exp(-r_mj * Δt)\n",
    "        for dj, prob in zip([1, 0, -1], [pu, pm, pd]):\n",
    "            k = j + dj\n",
    "            Q[m + 1][k] = Q[m + 1].get(k, 0.0) + Q[m][j] * prob * disc\n",
    "\n",
    "    #compute α_{m+1}\n",
    "    discount_sum = sum(Q[m + 1][k] * np.exp(-k * ΔR * Δt) for k in Q[m + 1])\n",
    "    α[m + 1] = -np.log(P_market[m + 2] / discount_sum) / Δt"
   ]
  },
  {
   "cell_type": "markdown",
   "id": "a93539b1-5e74-4cf8-b7e9-aab3c6835140",
   "metadata": {},
   "source": [
    "To price the bond and its option across all nodes, we will use another dictionary $V$ that stores the option prices(in this case the European put price)."
   ]
  },
  {
   "cell_type": "code",
   "execution_count": 11,
   "id": "1db1dddd-3d1b-4a68-81ec-60abc083f577",
   "metadata": {},
   "outputs": [
    {
     "name": "stdout",
     "output_type": "stream",
     "text": [
      "Tree put price(N = 200) =  1.8097\n",
      "Analytical put price: 1.8093\n"
     ]
    }
   ],
   "source": [
    "V = {}\n",
    "#calculate option price at terminal node\n",
    "for j in range(-N, N + 1):\n",
    "    r_Tj = α[N] + j * ΔR\n",
    "    bond_price = L*BP(T_option, S, r_Tj, a, σ, Δt)\n",
    "    V[(N, j)] = max(K - bond_price, 0)\n",
    "\n",
    "#calculate option price via backward induction\n",
    "for i in reversed(range(N)):\n",
    "    for j in range(-i, i + 1):\n",
    "        pu, pm, pd = probs(a,j,Δt)\n",
    "        v_up = V.get((i + 1, j + 1), 0.0) #get V(i,j) if it exists, zero otherwise\n",
    "        v_mid = V.get((i + 1, j), 0.0)\n",
    "        v_down = V.get((i + 1, j - 1), 0.0)\n",
    "        R_ij = α[i] + j * ΔR\n",
    "        expected = pu * v_up + pm * v_mid + pd * v_down\n",
    "        V[(i, j)] = np.exp(-R_ij * Δt) * expected\n",
    "\n",
    "print(f\"Tree put price(N = {N}) =  {V[(0, 0)]:.4f}\")\n",
    "put_price = Put_Ana(K, L, T_option, S, a, σ)\n",
    "print(f\"Analytical put price: {put_price:.4f}\")"
   ]
  },
  {
   "cell_type": "markdown",
   "id": "8ea8b46a-0349-4bba-8300-d31e50ba6c91",
   "metadata": {},
   "source": [
    "The put price from the tree aligns pretty well with the analytical result, which in turn is in perfect agreement with the value quoted by Hull<a href=\"#ref2\"><sup>[2]</sup></a>, validating our implementation of the algorithm. The next step will be to calibrate the model with market data, which I will leave for another notebook."
   ]
  },
  {
   "cell_type": "markdown",
   "id": "0b30a82d-e3be-4858-8394-1d681e12e6ad",
   "metadata": {},
   "source": [
    "## References\n",
    "\n",
    "<a id=\"ref1\"></a>[1]  John Hull, Alan White, \"<a href=\"https://academic.oup.com/rfs/article-abstract/3/4/573/1585938\">*Pricing Interest-Rate-Derivative Securities*</a>\" The Review of Financial Studies, Volume 3, Issue 4, October 1990, Pages 573–592\n",
    "\n",
    "<a id=\"ref2\"></a>[2]  Hull, J. C. (2011). \"<a href=\"https://www.google.com/books/edition/_/FeUuAAAAQBAJ?sa=X&ved=2ahUKEwiK86_Rz8aMAxWGF1kFHerLC_0Qre8FegQIKxBE\">*Options, Futures, and Other Derivatives.*</a>\" (n.p.): Pearson Education. "
   ]
  }
 ],
 "metadata": {
  "kernelspec": {
   "display_name": "Python 3 (ipykernel)",
   "language": "python",
   "name": "python3"
  },
  "language_info": {
   "codemirror_mode": {
    "name": "ipython",
    "version": 3
   },
   "file_extension": ".py",
   "mimetype": "text/x-python",
   "name": "python",
   "nbconvert_exporter": "python",
   "pygments_lexer": "ipython3",
   "version": "3.12.2"
  }
 },
 "nbformat": 4,
 "nbformat_minor": 5
}
